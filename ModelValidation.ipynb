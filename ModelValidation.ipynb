{
 "cells": [
  {
   "cell_type": "markdown",
   "metadata": {},
   "source": [
    "# Model Validation\n",
    "\n",
    "Wherein we take the model as trained and tuned on the full training set and check it against the hold-out test set split off at the beginning of development."
   ]
  },
  {
   "cell_type": "code",
   "execution_count": 1,
   "metadata": {
    "collapsed": true
   },
   "outputs": [],
   "source": [
    "import sqlite3\n",
    "import numpy as np\n",
    "from sklearn.cross_validation import train_test_split\n",
    "from sklearn.metrics import explained_variance_score\n",
    "from sklearn.metrics import mean_absolute_error\n",
    "from sklearn.metrics import mean_squared_error\n",
    "from sklearn.metrics import median_absolute_error\n",
    "from sklearn.metrics import r2_score\n",
    "\n",
    "train_conn = sqlite3.connect('./sqlite/training_incidents.sqlite')\n",
    "test_conn  = sqlite3.connect('./sqlite/validation_incidents.sqlite')\n",
    "\n",
    "r_seed = 38\n",
    "\n",
    "train_inputs = []\n",
    "train_labels = []\n",
    "test_inputs = []\n",
    "test_labels = []\n",
    "\n",
    "train_results = test_conn.execute(\"SELECT * from incidents\")\n",
    "test_results = test_conn.execute(\"SELECT * from incidents\")\n",
    "\n",
    "for rec in train_results:\n",
    "    train_labels.append(rec[1])\n",
    "    train_inputs.append(rec[2:])\n",
    "\n",
    "for rec in test_results:\n",
    "    test_labels.append(rec[1])\n",
    "    test_inputs.append(rec[2:])\n",
    "\n",
    "\n",
    "inputs_train = np.array(train_inputs)\n",
    "inputs_test = np.array(test_inputs)\n",
    "labels_train = np.array(train_labels)\n",
    "labels_test = np.array(test_labels)\n"
   ]
  },
  {
   "cell_type": "markdown",
   "metadata": {},
   "source": [
    "At this point all the data is loaded, both training and test, so now we take the parameters\n",
    "from the tuned algorithm and train it on the full set before scoring it against the test data"
   ]
  },
  {
   "cell_type": "code",
   "execution_count": 2,
   "metadata": {
    "collapsed": false
   },
   "outputs": [
    {
     "name": "stdout",
     "output_type": "stream",
     "text": [
      "EVS 0.676676560513\n",
      "MAE 0.809925635314\n",
      "MSE 1.43182316638\n",
      "MedAE 0.534865737451\n",
      "r^2 0.676676560513\n",
      "[ 0.00026007  0.00373238  0.00668474  0.01518905  0.00782811  0.00524282\n",
      "  0.01540893  0.01322664  0.01419353  0.00949979  0.00301603  0.00472313\n",
      "  0.00881173  0.          0.00084628  0.00423763  0.          0.00421173\n",
      "  0.05877099  0.19075471  0.07403105  0.06327598  0.23100903  0.00361041\n",
      "  0.00122255  0.001185    0.          0.          0.00117129  0.01239872\n",
      "  0.          0.00435039  0.00876331  0.00184721  0.          0.00821141\n",
      "  0.01078589  0.00091745  0.00777092  0.00363756  0.01790475  0.01256453\n",
      "  0.00304351  0.01009335  0.00289442  0.01075914  0.00200405  0.00126793\n",
      "  0.00289501  0.00097596  0.00325585  0.0057671   0.00162331  0.00378119\n",
      "  0.00321996  0.00856725  0.09188335  0.00419415  0.00391523  0.0060819\n",
      "  0.0024816 ]\n"
     ]
    }
   ],
   "source": [
    "from sklearn.ensemble import GradientBoostingRegressor\n",
    "\n",
    "gbr_clf = GradientBoostingRegressor(alpha=0.9, init=None, learning_rate=1.0, loss='ls',\n",
    "             max_depth=3, max_features=None, max_leaf_nodes=None,\n",
    "             min_samples_leaf=5, min_samples_split=5,\n",
    "             min_weight_fraction_leaf=0.0, n_estimators=100,\n",
    "             presort='auto', random_state=None, subsample=1.0, verbose=0,\n",
    "             warm_start=False)\n",
    "\n",
    "gbr_clf.fit(inputs_train, labels_train)\n",
    "\n",
    "labels_predict = gbr_clf.predict(inputs_test)\n",
    "\n",
    "print \"EVS\", explained_variance_score(labels_test, labels_predict)\n",
    "print \"MAE\", mean_absolute_error(labels_test, labels_predict)\n",
    "print \"MSE\", mean_squared_error(labels_test, labels_predict)\n",
    "print \"MedAE\", median_absolute_error(labels_test, labels_predict)\n",
    "print \"r^2\", r2_score(labels_test, labels_predict)\n",
    "print gbr_clf.feature_importances_"
   ]
  },
  {
   "cell_type": "markdown",
   "metadata": {},
   "source": [
    "This is quite promising; here I'm showing an r^2 score of 0.68 against a quite large dataset (30k) that has never been seen by the model before either in training or tuning.  The next step is to persist it so it can be incorporated into other programs without paying a retraining penalty.  This is where we'll check the benchmark for correct record order greater than 75% of the time."
   ]
  },
  {
   "cell_type": "code",
   "execution_count": 14,
   "metadata": {
    "collapsed": false
   },
   "outputs": [
    {
     "name": "stdout",
     "output_type": "stream",
     "text": [
      "TRIAL 1\n",
      "CORRECT 74, AVG DELTA 11179.5675676\n",
      "INCORRECT 26, AVG DELTA 5272.69230769\n",
      "------------\n",
      "TRIAL 2\n",
      "CORRECT 78, AVG DELTA 12798.0769231\n",
      "INCORRECT 22, AVG DELTA 8534.04545455\n",
      "------------\n",
      "TRIAL 3\n",
      "CORRECT 85, AVG DELTA 14021.6352941\n",
      "INCORRECT 15, AVG DELTA 3511.06666667\n",
      "------------\n",
      "TRIAL 4\n",
      "CORRECT 77, AVG DELTA 13019.4805195\n",
      "INCORRECT 23, AVG DELTA 5962.60869565\n",
      "------------\n",
      "TRIAL 5\n",
      "CORRECT 81, AVG DELTA 11966.8148148\n",
      "INCORRECT 19, AVG DELTA 4231.52631579\n",
      "------------\n",
      "TRIAL 6\n",
      "CORRECT 77, AVG DELTA 14181.9480519\n",
      "INCORRECT 23, AVG DELTA 4515.2173913\n",
      "------------\n",
      "TRIAL 7\n",
      "CORRECT 79, AVG DELTA 13047.4556962\n",
      "INCORRECT 21, AVG DELTA 7590.47619048\n",
      "------------\n",
      "TRIAL 8\n",
      "CORRECT 80, AVG DELTA 11675.6\n",
      "INCORRECT 20, AVG DELTA 3385.0\n",
      "------------\n",
      "TRIAL 9\n",
      "CORRECT 83, AVG DELTA 16899.9518072\n",
      "INCORRECT 17, AVG DELTA 6104.70588235\n",
      "------------\n",
      "TRIAL 10\n",
      "CORRECT 78, AVG DELTA 10835.1794872\n",
      "INCORRECT 22, AVG DELTA 2274.09090909\n",
      "------------\n"
     ]
    }
   ],
   "source": [
    "import random\n",
    "import math\n",
    "\n",
    "\n",
    "for trial in range(10):\n",
    "    correct_order_count = 0\n",
    "    incorrect_order_count = 0\n",
    "    actual_difference_correct = []\n",
    "    actual_differences_incorrect = []\n",
    "    for i in range(100):\n",
    "        index1 = random.randint(0,len(inputs_test)-1) \n",
    "        index2 = random.randint(0,len(inputs_test)-1) \n",
    "        inputs = [inputs_test[index1], inputs_test[index2]]\n",
    "        labels = [labels_test[index1], labels_test[index2]]\n",
    "        predictions = gbr_clf.predict(inputs)\n",
    "        delta = math.fabs(math.exp(labels[0]) - math.exp(labels[1]))\n",
    "        if labels[0] > labels[1]:\n",
    "            if predictions[0] > predictions[1]:\n",
    "                correct_order_count += 1\n",
    "                actual_difference_correct.append(delta)\n",
    "            else:\n",
    "                incorrect_order_count += 1\n",
    "                actual_differences_incorrect.append(delta)\n",
    "        else:\n",
    "            if predictions[0] > predictions[1]:\n",
    "                incorrect_order_count += 1\n",
    "                actual_differences_incorrect.append(delta)\n",
    "            else:\n",
    "                correct_order_count += 1\n",
    "                actual_difference_correct.append(delta)\n",
    "\n",
    "    print \"TRIAL %s\" % (trial + 1)\n",
    "    print \"CORRECT %s, AVG DELTA %s\" % (correct_order_count, sum(actual_difference_correct)/len(actual_difference_correct))\n",
    "    print \"INCORRECT %s, AVG DELTA %s\" % (incorrect_order_count, sum(actual_differences_incorrect)/len(actual_differences_incorrect))\n",
    "    print \"------------\""
   ]
  },
  {
   "cell_type": "code",
   "execution_count": 3,
   "metadata": {
    "collapsed": true
   },
   "outputs": [],
   "source": [
    "import pickle\n",
    "\n",
    "pickle.dump(gbr_clf, open('final_model.pickle', 'wb'))"
   ]
  },
  {
   "cell_type": "code",
   "execution_count": null,
   "metadata": {
    "collapsed": true
   },
   "outputs": [],
   "source": []
  }
 ],
 "metadata": {
  "kernelspec": {
   "display_name": "Python 2",
   "language": "python",
   "name": "python2"
  },
  "language_info": {
   "codemirror_mode": {
    "name": "ipython",
    "version": 2
   },
   "file_extension": ".py",
   "mimetype": "text/x-python",
   "name": "python",
   "nbconvert_exporter": "python",
   "pygments_lexer": "ipython2",
   "version": "2.7.10"
  }
 },
 "nbformat": 4,
 "nbformat_minor": 0
}
