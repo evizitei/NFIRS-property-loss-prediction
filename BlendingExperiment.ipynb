{
 "cells": [
  {
   "cell_type": "markdown",
   "metadata": {},
   "source": [
    "# Blending Experiment\n",
    "\n",
    "See if we can get better performance on regression by combining output of the other high performing regressions post tuning."
   ]
  },
  {
   "cell_type": "code",
   "execution_count": 1,
   "metadata": {
    "collapsed": true
   },
   "outputs": [],
   "source": [
    "import sqlite3\n",
    "import numpy as np\n",
    "from sklearn.cross_validation import train_test_split\n",
    "from sklearn.metrics import explained_variance_score\n",
    "from sklearn.metrics import mean_absolute_error\n",
    "from sklearn.metrics import mean_squared_error\n",
    "from sklearn.metrics import median_absolute_error\n",
    "from sklearn.metrics import r2_score\n",
    "\n",
    "conn = sqlite3.connect('./sqlite/training_incidents.sqlite')\n",
    "r_seed = 38\n",
    "\n",
    "inputs = []\n",
    "labels = []\n",
    "db_results = conn.execute(\"SELECT * from incidents\")\n",
    "for rec in db_results:\n",
    "# split data into inputs and labels\n",
    "    labels.append(rec[1])\n",
    "    inputs.append(rec[2:])\n",
    "\n",
    "all_inputs = np.array(inputs)\n",
    "all_labels = np.array(labels)\n",
    "\n",
    "inputs_train, inputs_test, labels_train, labels_test = train_test_split(all_inputs, all_labels,\n",
    "                                                                        test_size=0.10, random_state=r_seed)\n"
   ]
  },
  {
   "cell_type": "markdown",
   "metadata": {},
   "source": [
    "Build all the models based on tuned parameters which will then be blended together"
   ]
  },
  {
   "cell_type": "code",
   "execution_count": 2,
   "metadata": {
    "collapsed": true
   },
   "outputs": [],
   "source": [
    "from sklearn.ensemble import GradientBoostingRegressor\n",
    "from sklearn.ensemble import RandomForestRegressor\n",
    "from sklearn.ensemble import BaggingRegressor\n",
    "\n",
    "gbr_clf = GradientBoostingRegressor(alpha=0.9, init=None, learning_rate=1.0, loss='ls',\n",
    "             max_depth=3, max_features=None, max_leaf_nodes=None,\n",
    "             min_samples_leaf=5, min_samples_split=5,\n",
    "             min_weight_fraction_leaf=0.0, n_estimators=100,\n",
    "             presort='auto', random_state=None, subsample=1.0, verbose=0,\n",
    "             warm_start=False)\n",
    "rfr_clf = RandomForestRegressor(bootstrap=True, criterion='mse', max_depth=5,\n",
    "             max_features='auto', max_leaf_nodes=None, min_samples_leaf=1,\n",
    "             min_samples_split=9, min_weight_fraction_leaf=0.0,\n",
    "             n_estimators=10, n_jobs=1, oob_score=False, random_state=None,\n",
    "             verbose=0, warm_start=False)\n",
    "bag_clf = BaggingRegressor(base_estimator=None, bootstrap=True,\n",
    "             bootstrap_features=False, max_features=0.75, max_samples=0.5,\n",
    "             n_estimators=50, n_jobs=1, oob_score=False, random_state=None,\n",
    "             verbose=0, warm_start=False)"
   ]
  },
  {
   "cell_type": "markdown",
   "metadata": {},
   "source": [
    "fit each classifier to the training data"
   ]
  },
  {
   "cell_type": "code",
   "execution_count": 3,
   "metadata": {
    "collapsed": false
   },
   "outputs": [
    {
     "data": {
      "text/plain": [
       "BaggingRegressor(base_estimator=None, bootstrap=True,\n",
       "         bootstrap_features=False, max_features=0.75, max_samples=0.5,\n",
       "         n_estimators=50, n_jobs=1, oob_score=False, random_state=None,\n",
       "         verbose=0, warm_start=False)"
      ]
     },
     "execution_count": 3,
     "metadata": {},
     "output_type": "execute_result"
    }
   ],
   "source": [
    "gbr_clf.fit(inputs_train, labels_train)\n",
    "rfr_clf.fit(inputs_train, labels_train)\n",
    "bag_clf.fit(inputs_train, labels_train)"
   ]
  },
  {
   "cell_type": "markdown",
   "metadata": {},
   "source": [
    "Generate predictions on the training set to use them as inputs to the blended regressor"
   ]
  },
  {
   "cell_type": "code",
   "execution_count": 11,
   "metadata": {
    "collapsed": true
   },
   "outputs": [],
   "source": [
    "gbr_labels = gbr_clf.predict(inputs_train)\n",
    "rfr_labels = rfr_clf.predict(inputs_train)\n",
    "bag_labels = bag_clf.predict(inputs_train)\n",
    "\n",
    "test_gbr_labels = gbr_clf.predict(inputs_test)\n",
    "test_rfr_labels = rfr_clf.predict(inputs_test)\n",
    "test_bag_labels = bag_clf.predict(inputs_test)"
   ]
  },
  {
   "cell_type": "markdown",
   "metadata": {},
   "source": [
    "zip together outputs to make a new dataset for blended regressor\n"
   ]
  },
  {
   "cell_type": "code",
   "execution_count": 12,
   "metadata": {
    "collapsed": false
   },
   "outputs": [
    {
     "name": "stdout",
     "output_type": "stream",
     "text": [
      "[ 9.36496417  8.62245751  9.18318413]\n",
      "[ 5.98553209  6.75720119  4.71217228]\n"
     ]
    }
   ],
   "source": [
    "data = zip(gbr_labels, rfr_labels, bag_labels)\n",
    "test_data = zip(test_gbr_labels,test_rfr_labels,test_bag_labels)\n",
    "blended_inputs_train = [np.array(x) for x in data]\n",
    "blended_inputs_test = [np.array(x) for x in test_data]\n",
    "print blended_inputs_train[0]\n",
    "print blended_inputs_test[0]\n"
   ]
  },
  {
   "cell_type": "code",
   "execution_count": 9,
   "metadata": {
    "collapsed": false
   },
   "outputs": [
    {
     "name": "stdout",
     "output_type": "stream",
     "text": [
      "EVS 0.0\n",
      "MAE 1.55574313291\n",
      "MSE 4.3253531783\n",
      "MedAE 1.38961661763\n",
      "r^2 -2.74564991654e-06\n"
     ]
    }
   ],
   "source": [
    "from sklearn.dummy import DummyRegressor\n",
    "\n",
    "clf = DummyRegressor()\n",
    "clf.fit(blended_inputs_train, labels_train)\n",
    "\n",
    "labels_predict = clf.predict(inputs_test)\n",
    "\n",
    "print \"EVS\", explained_variance_score(labels_test, labels_predict)\n",
    "print \"MAE\", mean_absolute_error(labels_test, labels_predict)\n",
    "print \"MSE\", mean_squared_error(labels_test, labels_predict)\n",
    "print \"MedAE\", median_absolute_error(labels_test, labels_predict)\n",
    "print \"r^2\", r2_score(labels_test, labels_predict)"
   ]
  },
  {
   "cell_type": "code",
   "execution_count": 13,
   "metadata": {
    "collapsed": false
   },
   "outputs": [
    {
     "name": "stdout",
     "output_type": "stream",
     "text": [
      "[ 5.01063529  4.60517019  9.21034037 ...,  6.68461173  3.91202301\n",
      "  8.51719319]\n",
      "[ 3.31679848  5.28711275  8.6740758  ...,  8.63889784  6.26953742\n",
      "  7.95708678]\n",
      "EVS 0.580413442938\n",
      "MAE 0.932081745381\n",
      "MSE 1.81569446431\n",
      "MedAE 0.638782319444\n",
      "r^2 0.580219377533\n"
     ]
    }
   ],
   "source": [
    "from sklearn import linear_model\n",
    "\n",
    "clf = linear_model.LinearRegression()\n",
    "clf.fit(blended_inputs_train, labels_train)\n",
    "labels_predict = clf.predict(blended_inputs_test)\n",
    "print labels_test\n",
    "print labels_predict\n",
    "print \"EVS\", explained_variance_score(labels_test, labels_predict)\n",
    "print \"MAE\", mean_absolute_error(labels_test, labels_predict)\n",
    "print \"MSE\", mean_squared_error(labels_test, labels_predict)\n",
    "print \"MedAE\", median_absolute_error(labels_test, labels_predict)\n",
    "print \"r^2\", r2_score(labels_test, labels_predict)"
   ]
  },
  {
   "cell_type": "code",
   "execution_count": 14,
   "metadata": {
    "collapsed": false
   },
   "outputs": [
    {
     "name": "stdout",
     "output_type": "stream",
     "text": [
      "[ 5.01063529  4.60517019  9.21034037 ...,  6.68461173  3.91202301\n",
      "  8.51719319]\n",
      "[ 3.34898518  5.30973964  8.72350539 ...,  8.67960349  6.29156451\n",
      "  7.9985858 ]\n",
      "EVS 0.581258752526\n",
      "MAE 0.927121441206\n",
      "MSE 1.8112996324\n",
      "MedAE 0.632324419481\n",
      "r^2 0.58123544346\n"
     ]
    }
   ],
   "source": [
    "clf = linear_model.SGDRegressor(loss='squared_loss', penalty='l2', alpha=0.001, l1_ratio=0.15, n_iter=50,\n",
    "                                learning_rate='invscaling', eta0=0.01, power_t=0.25)\n",
    "clf.fit(blended_inputs_train, labels_train)\n",
    "labels_predict = clf.predict(blended_inputs_test)\n",
    "print labels_test\n",
    "print labels_predict\n",
    "print \"EVS\", explained_variance_score(labels_test, labels_predict)\n",
    "print \"MAE\", mean_absolute_error(labels_test, labels_predict)\n",
    "print \"MSE\", mean_squared_error(labels_test, labels_predict)\n",
    "print \"MedAE\", median_absolute_error(labels_test, labels_predict)\n",
    "print \"r^2\", r2_score(labels_test, labels_predict)"
   ]
  },
  {
   "cell_type": "code",
   "execution_count": 15,
   "metadata": {
    "collapsed": false
   },
   "outputs": [
    {
     "name": "stdout",
     "output_type": "stream",
     "text": [
      "[ 5.01063529  4.60517019  9.21034037 ...,  6.68461173  3.91202301\n",
      "  8.51719319]\n",
      "[ 3.3755437   4.60517019  9.28536652 ...,  8.56277358  4.60517019\n",
      "  7.25432887]\n",
      "EVS 0.526854897912\n",
      "MAE 0.939259893313\n",
      "MSE 2.04676837916\n",
      "MedAE 0.621226662447\n",
      "r^2 0.526796098608\n"
     ]
    }
   ],
   "source": [
    "from sklearn.tree import DecisionTreeRegressor\n",
    "clf = DecisionTreeRegressor(min_samples_leaf=2, min_samples_split=5, random_state=31)\n",
    "\n",
    "clf.fit(blended_inputs_train, labels_train)\n",
    "labels_predict = clf.predict(blended_inputs_test)\n",
    "print labels_test\n",
    "print labels_predict\n",
    "print \"EVS\", explained_variance_score(labels_test, labels_predict)\n",
    "print \"MAE\", mean_absolute_error(labels_test, labels_predict)\n",
    "print \"MSE\", mean_squared_error(labels_test, labels_predict)\n",
    "print \"MedAE\", median_absolute_error(labels_test, labels_predict)\n",
    "print \"r^2\", r2_score(labels_test, labels_predict)"
   ]
  },
  {
   "cell_type": "code",
   "execution_count": 16,
   "metadata": {
    "collapsed": false
   },
   "outputs": [
    {
     "name": "stdout",
     "output_type": "stream",
     "text": [
      "[ 5.01063529  4.60517019  9.21034037 ...,  6.68461173  3.91202301\n",
      "  8.51719319]\n",
      "[ 3.58444601  3.89091456  9.14985783 ...,  8.6228675   5.44525979\n",
      "  7.75105997]\n",
      "EVS 0.566775816383\n",
      "MAE 0.980299967448\n",
      "MSE 1.93813463702\n",
      "MedAE 0.714255629273\n",
      "r^2 0.551911744877\n"
     ]
    }
   ],
   "source": [
    "from sklearn.ensemble import AdaBoostRegressor\n",
    "\n",
    "clf = AdaBoostRegressor(n_estimators=50, learning_rate=1.0, loss='linear', random_state=31)\n",
    "clf.fit(blended_inputs_train, labels_train)\n",
    "labels_predict = clf.predict(blended_inputs_test)\n",
    "print labels_test\n",
    "print labels_predict\n",
    "print \"EVS\", explained_variance_score(labels_test, labels_predict)\n",
    "print \"MAE\", mean_absolute_error(labels_test, labels_predict)\n",
    "print \"MSE\", mean_squared_error(labels_test, labels_predict)\n",
    "print \"MedAE\", median_absolute_error(labels_test, labels_predict)\n",
    "print \"r^2\", r2_score(labels_test, labels_predict)"
   ]
  },
  {
   "cell_type": "code",
   "execution_count": null,
   "metadata": {
    "collapsed": true
   },
   "outputs": [],
   "source": []
  }
 ],
 "metadata": {
  "kernelspec": {
   "display_name": "Python 2",
   "language": "python",
   "name": "python2"
  },
  "language_info": {
   "codemirror_mode": {
    "name": "ipython",
    "version": 2
   },
   "file_extension": ".py",
   "mimetype": "text/x-python",
   "name": "python",
   "nbconvert_exporter": "python",
   "pygments_lexer": "ipython2",
   "version": "2.7.10"
  }
 },
 "nbformat": 4,
 "nbformat_minor": 0
}
