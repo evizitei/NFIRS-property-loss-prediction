{
 "cells": [
  {
   "cell_type": "markdown",
   "metadata": {},
   "source": [
    "# Algorithm Experimentation"
   ]
  },
  {
   "cell_type": "markdown",
   "metadata": {},
   "source": [
    "Here I'm going to play with a bunch of different models and see which ones look promising for further tuning."
   ]
  },
  {
   "cell_type": "code",
   "execution_count": 1,
   "metadata": {
    "collapsed": true
   },
   "outputs": [],
   "source": [
    "%matplotlib inline\n",
    "import matplotlib.pyplot as plt\n",
    "import sqlite3\n",
    "import numpy as np\n",
    "import pandas as pd\n",
    "conn = sqlite3.connect('./sqlite/training_incidents.sqlite')"
   ]
  },
  {
   "cell_type": "markdown",
   "metadata": {},
   "source": [
    "### Get data into memory in trainable shape\n"
   ]
  },
  {
   "cell_type": "code",
   "execution_count": 2,
   "metadata": {
    "collapsed": false
   },
   "outputs": [],
   "source": [
    "# get data from SQLite into array in memory\n",
    "all_data = []\n",
    "db_results = conn.execute(\"SELECT * from incidents\")\n",
    "for rec in db_results:\n",
    "    all_data.append(np.array(rec))"
   ]
  },
  {
   "cell_type": "code",
   "execution_count": 3,
   "metadata": {
    "collapsed": false
   },
   "outputs": [
    {
     "name": "stdout",
     "output_type": "stream",
     "text": [
      "158313\n",
      "158313\n"
     ]
    }
   ],
   "source": [
    "# split data into inputs and labels\n",
    "inputs = []\n",
    "labels = []\n",
    "for rec in all_data:\n",
    "    # index 0 is just db id, we don't need that\n",
    "    if rec[1] > 5.0:\n",
    "        labels.append(rec[1])\n",
    "        inputs.append(rec[2:])\n",
    "\n",
    "all_inputs = np.array(inputs)\n",
    "all_labels = np.array(labels)\n",
    "\n",
    "print len(all_inputs)\n",
    "print len(all_labels)\n",
    "# 162448 in full set,                            r^2 range 0.327\n",
    "# 158313 after removing low-end outliers < 5,    r^2 range 0.337\n",
    "# 157531 after removing low-end outliers < 10,   r^2 range 0.336\n",
    "# 156664 after removing low-end outliers < 25,   r^2 range 0.328\n",
    "# 154567 after removing low-end outliers < 50,   r^2 range 0.313\n",
    "# 149192 after removing low-end outliers < 100,  r^2 range 0.313\n",
    "# 143318 after removing low-end outliers < 250,  r^2 range 0.31\n",
    "# 128288 after removing low-end outliers < 500,  r^2 range 0.30\n",
    "# 109824 after removing low-end outliers < 1000, r^2 range 0.27\n",
    "# 103628 after removing low-end outliers < 1500, r^2 range 0.25\n",
    "# 56820 after removing low-end outliers < 5000,  r^2 range 0.18\n",
    "# 35461 after removing low-end outliers < 10000, r^2 range 0.13"
   ]
  },
  {
   "cell_type": "markdown",
   "metadata": {},
   "source": [
    "### Split into training and test sets"
   ]
  },
  {
   "cell_type": "code",
   "execution_count": 4,
   "metadata": {
    "collapsed": false
   },
   "outputs": [],
   "source": [
    "from sklearn.cross_validation import train_test_split\n",
    "inputs_train, inputs_test, labels_train, labels_test = train_test_split(all_inputs, all_labels, test_size=0.10, random_state=30)\n",
    "\n",
    "from sklearn.metrics import explained_variance_score\n",
    "from sklearn.metrics import mean_absolute_error\n",
    "from sklearn.metrics import mean_squared_error\n",
    "from sklearn.metrics import median_absolute_error\n",
    "from sklearn.metrics import r2_score"
   ]
  },
  {
   "cell_type": "markdown",
   "metadata": {},
   "source": [
    "### Dummy Regression\n"
   ]
  },
  {
   "cell_type": "code",
   "execution_count": 131,
   "metadata": {
    "collapsed": false
   },
   "outputs": [
    {
     "name": "stdout",
     "output_type": "stream",
     "text": [
      "EVS 0.0\n",
      "MAE 8994.24919087\n",
      "MSE 160592565.919\n",
      "MedAE 7324.2225209\n",
      "r^2 -1.25578303172e-05\n"
     ]
    }
   ],
   "source": [
    "from sklearn.dummy import DummyRegressor\n",
    "\n",
    "clf = DummyRegressor()\n",
    "clf.fit(inputs_train, labels_train)\n",
    "labels_predict = clf.predict(inputs_test)\n",
    "\n",
    "print \"EVS\", explained_variance_score(labels_test, labels_predict)\n",
    "print \"MAE\", mean_absolute_error(labels_test, labels_predict)\n",
    "print \"MSE\", mean_squared_error(labels_test, labels_predict)\n",
    "print \"MedAE\", median_absolute_error(labels_test, labels_predict)\n",
    "print \"r^2\", r2_score(labels_test, labels_predict)\n",
    "\n"
   ]
  },
  {
   "cell_type": "markdown",
   "metadata": {},
   "source": [
    "### Naive LinearRegression"
   ]
  },
  {
   "cell_type": "code",
   "execution_count": 132,
   "metadata": {
    "collapsed": false
   },
   "outputs": [
    {
     "name": "stdout",
     "output_type": "stream",
     "text": [
      "[ 10000.   2000.   5000. ...,  18500.  30000.  23000.]\n",
      "[  8004.   3042.  12362. ...,  21878.  33852.   5904.]\n",
      "EVS 0.337502798405\n",
      "MAE 6771.33527034\n",
      "MSE 106391864.925\n",
      "MedAE 3994.0\n",
      "r^2 0.337496101598\n"
     ]
    }
   ],
   "source": [
    "from sklearn import linear_model\n",
    "clf = linear_model.LinearRegression()\n",
    "clf.fit(inputs_train, labels_train)\n",
    "labels_predict = clf.predict(inputs_test)\n",
    "print labels_test\n",
    "print labels_predict\n",
    "print \"EVS\", explained_variance_score(labels_test, labels_predict)\n",
    "print \"MAE\", mean_absolute_error(labels_test, labels_predict)\n",
    "print \"MSE\", mean_squared_error(labels_test, labels_predict)\n",
    "print \"MedAE\", median_absolute_error(labels_test, labels_predict)\n",
    "print \"r^2\", r2_score(labels_test, labels_predict)\n"
   ]
  },
  {
   "cell_type": "markdown",
   "metadata": {},
   "source": [
    "### Ridge Regression"
   ]
  },
  {
   "cell_type": "code",
   "execution_count": 133,
   "metadata": {
    "collapsed": false
   },
   "outputs": [
    {
     "name": "stdout",
     "output_type": "stream",
     "text": [
      "[ 10000.   2000.   5000. ...,  18500.  30000.  23000.]\n",
      "[  8003.57916827   2911.55516439  12370.11936152 ...,  21896.27040623\n",
      "  33883.47337838   5933.8220702 ]\n",
      "EVS 0.3374757206\n",
      "MAE 6768.88649223\n",
      "MSE 106396246.012\n",
      "MedAE 3991.02905013\n",
      "r^2 0.337468820496\n"
     ]
    }
   ],
   "source": [
    "clf = linear_model.Ridge(alpha = 1.0)\n",
    "clf.fit(inputs_train, labels_train)\n",
    "labels_predict = clf.predict(inputs_test)\n",
    "print labels_test\n",
    "print labels_predict\n",
    "print \"EVS\", explained_variance_score(labels_test, labels_predict)\n",
    "print \"MAE\", mean_absolute_error(labels_test, labels_predict)\n",
    "print \"MSE\", mean_squared_error(labels_test, labels_predict)\n",
    "print \"MedAE\", median_absolute_error(labels_test, labels_predict)\n",
    "print \"r^2\", r2_score(labels_test, labels_predict)"
   ]
  },
  {
   "cell_type": "markdown",
   "metadata": {},
   "source": [
    "### Lasso Regression"
   ]
  },
  {
   "cell_type": "code",
   "execution_count": 134,
   "metadata": {
    "collapsed": false
   },
   "outputs": [
    {
     "name": "stdout",
     "output_type": "stream",
     "text": [
      "[ 10000.   2000.   5000. ...,  18500.  30000.  23000.]\n",
      "[  8005.60313718   2912.27966517  12369.41278766 ...,  21877.95079448\n",
      "  33884.24611259   5932.32082179]\n",
      "EVS 0.337472809327\n",
      "MAE 6768.47699638\n",
      "MSE 106396705.082\n",
      "MedAE 3990.60742437\n",
      "r^2 0.337465961861\n"
     ]
    }
   ],
   "source": [
    "clf = linear_model.Lasso(alpha = 0.1)\n",
    "clf.fit(inputs_train, labels_train)\n",
    "labels_predict = clf.predict(inputs_test)\n",
    "print labels_test\n",
    "print labels_predict\n",
    "print \"EVS\", explained_variance_score(labels_test, labels_predict)\n",
    "print \"MAE\", mean_absolute_error(labels_test, labels_predict)\n",
    "print \"MSE\", mean_squared_error(labels_test, labels_predict)\n",
    "print \"MedAE\", median_absolute_error(labels_test, labels_predict)\n",
    "print \"r^2\", r2_score(labels_test, labels_predict)"
   ]
  },
  {
   "cell_type": "markdown",
   "metadata": {},
   "source": [
    "### ElasticNet Regression"
   ]
  },
  {
   "cell_type": "code",
   "execution_count": 135,
   "metadata": {
    "collapsed": false
   },
   "outputs": [
    {
     "name": "stdout",
     "output_type": "stream",
     "text": [
      "[ 10000.   2000.   5000. ...,  18500.  30000.  23000.]\n",
      "[  7831.49736691   4391.61459373  10610.21465554 ...,  19309.84392238\n",
      "  29287.11014411   6599.80727267]\n",
      "EVS 0.31633636811\n",
      "MAE 6951.26896467\n",
      "MSE 109790831.742\n",
      "MedAE 4283.40607024\n",
      "r^2 0.31633067914\n"
     ]
    }
   ],
   "source": [
    "clf = linear_model.ElasticNet(alpha=0.1, l1_ratio=0.85)\n",
    "clf.fit(inputs_train, labels_train)\n",
    "labels_predict = clf.predict(inputs_test)\n",
    "print labels_test\n",
    "print labels_predict\n",
    "print \"EVS\", explained_variance_score(labels_test, labels_predict)\n",
    "print \"MAE\", mean_absolute_error(labels_test, labels_predict)\n",
    "print \"MSE\", mean_squared_error(labels_test, labels_predict)\n",
    "print \"MedAE\", median_absolute_error(labels_test, labels_predict)\n",
    "print \"r^2\", r2_score(labels_test, labels_predict)"
   ]
  },
  {
   "cell_type": "markdown",
   "metadata": {},
   "source": [
    "### Stochastic Gradient Descent"
   ]
  },
  {
   "cell_type": "code",
   "execution_count": 136,
   "metadata": {
    "collapsed": false
   },
   "outputs": [
    {
     "name": "stdout",
     "output_type": "stream",
     "text": [
      "[ 10000.   2000.   5000. ...,  18500.  30000.  23000.]\n",
      "[  7931.65997832   3185.74547516  12302.94909154 ...,  21293.10545569\n",
      "  33174.44252656   5515.72341942]\n",
      "EVS 0.336706197879\n",
      "MAE 6725.92039159\n",
      "MSE 106539140.143\n",
      "MedAE 3911.35367241\n",
      "r^2 0.336579016382\n"
     ]
    }
   ],
   "source": [
    "clf = linear_model.SGDRegressor(loss='squared_loss', penalty='l2', alpha=0.001, l1_ratio=0.15, n_iter=50,\n",
    "                                learning_rate='invscaling', eta0=0.01, power_t=0.25)\n",
    "clf.fit(inputs_train, labels_train)\n",
    "labels_predict = clf.predict(inputs_test)\n",
    "print labels_test\n",
    "print labels_predict\n",
    "print \"EVS\", explained_variance_score(labels_test, labels_predict)\n",
    "print \"MAE\", mean_absolute_error(labels_test, labels_predict)\n",
    "print \"MSE\", mean_squared_error(labels_test, labels_predict)\n",
    "print \"MedAE\", median_absolute_error(labels_test, labels_predict)\n",
    "print \"r^2\", r2_score(labels_test, labels_predict)"
   ]
  },
  {
   "cell_type": "markdown",
   "metadata": {},
   "source": [
    "### Bayseian Regression\n"
   ]
  },
  {
   "cell_type": "code",
   "execution_count": 138,
   "metadata": {
    "collapsed": false
   },
   "outputs": [
    {
     "name": "stdout",
     "output_type": "stream",
     "text": [
      "[ 10000.   2000.   5000. ...,  18500.  30000.  23000.]\n",
      "[  8013.72573099   2916.93669418  12404.31805054 ...,  21910.38131485\n",
      "  33896.96181085   5934.30404982]\n",
      "EVS 0.337427187161\n",
      "MAE 6769.08317424\n",
      "MSE 106404030.463\n",
      "MedAE 3990.26945881\n",
      "r^2 0.337420346588\n"
     ]
    }
   ],
   "source": [
    "clf = linear_model.BayesianRidge(n_iter=300, tol=0.001, alpha_1=1e-06, alpha_2=1e-06, lambda_1=1e-06, lambda_2=1e-06)\n",
    "clf.fit(inputs_train, labels_train)\n",
    "labels_predict = clf.predict(inputs_test)\n",
    "print labels_test\n",
    "print labels_predict\n",
    "print \"EVS\", explained_variance_score(labels_test, labels_predict)\n",
    "print \"MAE\", mean_absolute_error(labels_test, labels_predict)\n",
    "print \"MSE\", mean_squared_error(labels_test, labels_predict)\n",
    "print \"MedAE\", median_absolute_error(labels_test, labels_predict)\n",
    "print \"r^2\", r2_score(labels_test, labels_predict)"
   ]
  },
  {
   "cell_type": "markdown",
   "metadata": {},
   "source": [
    "### Passive Aggressive Regression"
   ]
  },
  {
   "cell_type": "code",
   "execution_count": 147,
   "metadata": {
    "collapsed": false
   },
   "outputs": [
    {
     "name": "stdout",
     "output_type": "stream",
     "text": [
      "[ 10000.   2000.   5000. ...,  18500.  30000.  23000.]\n",
      "[  5277.67733441    938.73392571   7300.24258968 ...,  13631.17092476\n",
      "  24605.95804115   3648.63878451]\n",
      "EVS 0.310113593215\n",
      "MAE 6266.91543719\n",
      "MSE 119943719.986\n",
      "MedAE 2711.20730322\n",
      "r^2 0.253108476519\n"
     ]
    }
   ],
   "source": [
    "clf = linear_model.PassiveAggressiveRegressor(C=5.0, n_iter=50, loss='epsilon_insensitive', epsilon=0.5, random_state=31)\n",
    "clf.fit(inputs_train, labels_train)\n",
    "labels_predict = clf.predict(inputs_test)\n",
    "print labels_test\n",
    "print labels_predict\n",
    "print \"EVS\", explained_variance_score(labels_test, labels_predict)\n",
    "print \"MAE\", mean_absolute_error(labels_test, labels_predict)\n",
    "print \"MSE\", mean_squared_error(labels_test, labels_predict)\n",
    "print \"MedAE\", median_absolute_error(labels_test, labels_predict)\n",
    "print \"r^2\", r2_score(labels_test, labels_predict)"
   ]
  },
  {
   "cell_type": "markdown",
   "metadata": {},
   "source": [
    "### RANSAC regression"
   ]
  },
  {
   "cell_type": "code",
   "execution_count": 151,
   "metadata": {
    "collapsed": false
   },
   "outputs": [
    {
     "name": "stdout",
     "output_type": "stream",
     "text": [
      "[ 10000.   2000.   5000. ...,  18500.  30000.  23000.]\n",
      "[ -1607.75    980.75  12146.75 ...,  34669.    11165.75   9964.75]\n",
      "EVS -0.0820842407075\n",
      "MAE 8677.73799899\n",
      "MSE 174987299.368\n",
      "MedAE 4909.75\n",
      "r^2 -0.0896488005356\n"
     ]
    }
   ],
   "source": [
    "clf = linear_model.RANSACRegressor(random_state=31)\n",
    "clf.fit(inputs_train, labels_train)\n",
    "labels_predict = clf.predict(inputs_test)\n",
    "print labels_test\n",
    "print labels_predict\n",
    "print \"EVS\", explained_variance_score(labels_test, labels_predict)\n",
    "print \"MAE\", mean_absolute_error(labels_test, labels_predict)\n",
    "print \"MSE\", mean_squared_error(labels_test, labels_predict)\n",
    "print \"MedAE\", median_absolute_error(labels_test, labels_predict)\n",
    "print \"r^2\", r2_score(labels_test, labels_predict)"
   ]
  },
  {
   "cell_type": "markdown",
   "metadata": {},
   "source": [
    "### TheilSenRegressor"
   ]
  },
  {
   "cell_type": "code",
   "execution_count": 152,
   "metadata": {
    "collapsed": false
   },
   "outputs": [
    {
     "name": "stdout",
     "output_type": "stream",
     "text": [
      "[ 10000.   2000.   5000. ...,  18500.  30000.  23000.]\n",
      "[  7901.82461543   1490.83642784  10425.69831101 ...,  20724.46848336\n",
      "  34882.7099878    5773.47003079]\n",
      "EVS 0.263020817546\n",
      "MAE 6940.71036693\n",
      "MSE 118396903.948\n",
      "MedAE 3945.9399042\n",
      "r^2 0.262740525513\n"
     ]
    }
   ],
   "source": [
    "clf = linear_model.TheilSenRegressor(random_state=31)\n",
    "clf.fit(inputs_train, labels_train)\n",
    "labels_predict = clf.predict(inputs_test)\n",
    "print labels_test\n",
    "print labels_predict\n",
    "print \"EVS\", explained_variance_score(labels_test, labels_predict)\n",
    "print \"MAE\", mean_absolute_error(labels_test, labels_predict)\n",
    "print \"MSE\", mean_squared_error(labels_test, labels_predict)\n",
    "print \"MedAE\", median_absolute_error(labels_test, labels_predict)\n",
    "print \"r^2\", r2_score(labels_test, labels_predict)"
   ]
  },
  {
   "cell_type": "markdown",
   "metadata": {},
   "source": [
    "### DecisionTree Regression"
   ]
  },
  {
   "cell_type": "code",
   "execution_count": 11,
   "metadata": {
    "collapsed": false
   },
   "outputs": [
    {
     "name": "stdout",
     "output_type": "stream",
     "text": [
      "[ 10000.   2000.   5000. ...,  18500.  30000.  23000.]\n",
      "[  3250.    1250.    5000.  ...,  20000.   55000.    9562.5]\n",
      "EVS 0.234324949447\n",
      "MAE 5807.30401372\n",
      "MSE 122960196.502\n",
      "MedAE 1566.66666667\n",
      "r^2 0.234324827482\n"
     ]
    }
   ],
   "source": [
    "from sklearn.tree import DecisionTreeRegressor\n",
    "clf = DecisionTreeRegressor(min_samples_leaf=2, min_samples_split=5, random_state=31)\n",
    "\n",
    "clf.fit(inputs_train, labels_train)\n",
    "labels_predict = clf.predict(inputs_test)\n",
    "print labels_test\n",
    "print labels_predict\n",
    "print \"EVS\", explained_variance_score(labels_test, labels_predict)\n",
    "print \"MAE\", mean_absolute_error(labels_test, labels_predict)\n",
    "print \"MSE\", mean_squared_error(labels_test, labels_predict)\n",
    "print \"MedAE\", median_absolute_error(labels_test, labels_predict)\n",
    "print \"r^2\", r2_score(labels_test, labels_predict)"
   ]
  },
  {
   "cell_type": "markdown",
   "metadata": {},
   "source": [
    "### ExtraTree Regression"
   ]
  },
  {
   "cell_type": "code",
   "execution_count": 13,
   "metadata": {
    "collapsed": false
   },
   "outputs": [
    {
     "name": "stdout",
     "output_type": "stream",
     "text": [
      "[ 10000.   2000.   5000. ...,  18500.  30000.  23000.]\n",
      "[  9375.            550.           9000.         ...,  41666.66666667\n",
      "  37975.           6000.        ]\n",
      "EVS 0.202306107868\n",
      "MAE 6333.2717283\n",
      "MSE 128102567.891\n",
      "MedAE 2250.0\n",
      "r^2 0.202303195988\n"
     ]
    }
   ],
   "source": [
    "from sklearn.tree import ExtraTreeRegressor\n",
    "clf = ExtraTreeRegressor(min_samples_split=5, min_samples_leaf=2, random_state=31)\n",
    "clf.fit(inputs_train, labels_train)\n",
    "labels_predict = clf.predict(inputs_test)\n",
    "print labels_test\n",
    "print labels_predict\n",
    "print \"EVS\", explained_variance_score(labels_test, labels_predict)\n",
    "print \"MAE\", mean_absolute_error(labels_test, labels_predict)\n",
    "print \"MSE\", mean_squared_error(labels_test, labels_predict)\n",
    "print \"MedAE\", median_absolute_error(labels_test, labels_predict)\n",
    "print \"r^2\", r2_score(labels_test, labels_predict)"
   ]
  },
  {
   "cell_type": "markdown",
   "metadata": {},
   "source": [
    "### Support Vector Machine Regression"
   ]
  },
  {
   "cell_type": "code",
   "execution_count": 5,
   "metadata": {
    "collapsed": false
   },
   "outputs": [
    {
     "data": {
      "text/plain": [
       "SVR(C=1.0, cache_size=200, coef0=0.0, degree=3, epsilon=0.1, gamma='auto',\n",
       "  kernel='rbf', max_iter=-1, shrinking=True, tol=0.001, verbose=False)"
      ]
     },
     "execution_count": 5,
     "metadata": {},
     "output_type": "execute_result"
    }
   ],
   "source": [
    "from sklearn import svm\n",
    "clf = svm.SVR()\n",
    "\n",
    "# svm takes 5-evar on full dataset\n",
    "svm_inputs, other_inputs, svm_labels, other_labels = train_test_split(inputs_train, labels_train, test_size=0.90, random_state=30)\n",
    "clf.fit(svm_inputs, svm_labels)"
   ]
  },
  {
   "cell_type": "code",
   "execution_count": 6,
   "metadata": {
    "collapsed": false
   },
   "outputs": [
    {
     "name": "stdout",
     "output_type": "stream",
     "text": [
      "[ 10000.   2000.   5000. ...,  18500.  30000.  23000.]\n",
      "[ 3615.43161602  3615.93483242  3549.11169049 ...,  3488.57380239\n",
      "  3741.87372973  3362.23151733]\n",
      "EVS 0.00799937935024\n",
      "MAE 7567.1136987\n",
      "MSE 187228764.648\n",
      "MedAE 2862.27354508\n",
      "r^2 -0.165876606827\n"
     ]
    }
   ],
   "source": [
    "labels_predict = clf.predict(inputs_test)\n",
    "print labels_test\n",
    "print labels_predict\n",
    "print \"EVS\", explained_variance_score(labels_test, labels_predict)\n",
    "print \"MAE\", mean_absolute_error(labels_test, labels_predict)\n",
    "print \"MSE\", mean_squared_error(labels_test, labels_predict)\n",
    "print \"MedAE\", median_absolute_error(labels_test, labels_predict)\n",
    "print \"r^2\", r2_score(labels_test, labels_predict)"
   ]
  },
  {
   "cell_type": "markdown",
   "metadata": {},
   "source": [
    "### AdaBoost Regression"
   ]
  },
  {
   "cell_type": "code",
   "execution_count": 19,
   "metadata": {
    "collapsed": false
   },
   "outputs": [
    {
     "name": "stdout",
     "output_type": "stream",
     "text": [
      "[ 10000.   2000.   5000. ...,  18500.  30000.  23000.]\n",
      "[ 13414.66618564   7394.49039007   3448.2567983  ...,  15554.23573383\n",
      "  30606.04948456  21229.84598719]\n",
      "EVS 0.420871189241\n",
      "MAE 6683.69374767\n",
      "MSE 97023743.9995\n",
      "MedAE 4394.49039007\n",
      "r^2 0.395831545177\n"
     ]
    }
   ],
   "source": [
    "from sklearn.ensemble import AdaBoostRegressor\n",
    "\n",
    "clf = AdaBoostRegressor(n_estimators=50, learning_rate=1.0, loss='linear', random_state=31)\n",
    "clf.fit(inputs_train, labels_train)\n",
    "labels_predict = clf.predict(inputs_test)\n",
    "print labels_test\n",
    "print labels_predict\n",
    "print \"EVS\", explained_variance_score(labels_test, labels_predict)\n",
    "print \"MAE\", mean_absolute_error(labels_test, labels_predict)\n",
    "print \"MSE\", mean_squared_error(labels_test, labels_predict)\n",
    "print \"MedAE\", median_absolute_error(labels_test, labels_predict)\n",
    "print \"r^2\", r2_score(labels_test, labels_predict)"
   ]
  },
  {
   "cell_type": "markdown",
   "metadata": {},
   "source": [
    "### Bagging Regression\n"
   ]
  },
  {
   "cell_type": "code",
   "execution_count": 20,
   "metadata": {
    "collapsed": false
   },
   "outputs": [
    {
     "name": "stdout",
     "output_type": "stream",
     "text": [
      "[ 10000.   2000.   5000. ...,  18500.  30000.  23000.]\n",
      "[ 12900.     810.    4600.  ...,  18650.   37800.   17034.5]\n",
      "EVS 0.487894169029\n",
      "MAE 5101.09792322\n",
      "MSE 82331602.4696\n",
      "MedAE 1917.68849206\n",
      "r^2 0.487319752911\n"
     ]
    }
   ],
   "source": [
    "from sklearn.ensemble import BaggingRegressor\n",
    "\n",
    "clf = BaggingRegressor(n_estimators=10, n_jobs=-1, random_state=31)\n",
    "clf.fit(inputs_train, labels_train)\n",
    "labels_predict = clf.predict(inputs_test)\n",
    "print labels_test\n",
    "print labels_predict\n",
    "print \"EVS\", explained_variance_score(labels_test, labels_predict)\n",
    "print \"MAE\", mean_absolute_error(labels_test, labels_predict)\n",
    "print \"MSE\", mean_squared_error(labels_test, labels_predict)\n",
    "print \"MedAE\", median_absolute_error(labels_test, labels_predict)\n",
    "print \"r^2\", r2_score(labels_test, labels_predict)"
   ]
  },
  {
   "cell_type": "markdown",
   "metadata": {},
   "source": [
    "### Extra Trees Ensemble Regression"
   ]
  },
  {
   "cell_type": "code",
   "execution_count": 21,
   "metadata": {
    "collapsed": false
   },
   "outputs": [
    {
     "name": "stdout",
     "output_type": "stream",
     "text": [
      "[ 10000.   2000.   5000. ...,  18500.  30000.  23000.]\n",
      "[  5972.5          1215.5         21035.83333333 ...,  35933.33333333\n",
      "  34380.83333333  17070.83333333]\n",
      "EVS 0.481069108776\n",
      "MAE 5368.46049118\n",
      "MSE 83336201.7904\n",
      "MedAE 2365.83333333\n",
      "r^2 0.481064096364\n"
     ]
    }
   ],
   "source": [
    "from sklearn.ensemble import ExtraTreesRegressor\n",
    "\n",
    "clf = ExtraTreesRegressor(n_estimators=10, min_samples_split=5, min_samples_leaf=2, n_jobs=-11, random_state=31)\n",
    "clf.fit(inputs_train, labels_train)\n",
    "labels_predict = clf.predict(inputs_test)\n",
    "print labels_test\n",
    "print labels_predict\n",
    "print \"EVS\", explained_variance_score(labels_test, labels_predict)\n",
    "print \"MAE\", mean_absolute_error(labels_test, labels_predict)\n",
    "print \"MSE\", mean_squared_error(labels_test, labels_predict)\n",
    "print \"MedAE\", median_absolute_error(labels_test, labels_predict)\n",
    "print \"r^2\", r2_score(labels_test, labels_predict)"
   ]
  },
  {
   "cell_type": "markdown",
   "metadata": {},
   "source": [
    "### Gradient Boost Regression"
   ]
  },
  {
   "cell_type": "code",
   "execution_count": 22,
   "metadata": {
    "collapsed": false
   },
   "outputs": [
    {
     "name": "stdout",
     "output_type": "stream",
     "text": [
      "[ 10000.   2000.   5000. ...,  18500.  30000.  23000.]\n",
      "[  9704.1573131    2268.02472045   3556.80589375 ...,  16526.5530498\n",
      "  37174.70792291  15274.09137617]\n",
      "EVS 0.530806727221\n",
      "MAE 5193.65907787\n",
      "MSE 75350317.5651\n",
      "MedAE 2432.56661458\n",
      "r^2 0.530792329207\n"
     ]
    }
   ],
   "source": [
    "from sklearn.ensemble import GradientBoostingRegressor\n",
    "\n",
    "clf = GradientBoostingRegressor(loss='ls', learning_rate=0.1, n_estimators=100, subsample=1.0,\n",
    "                                 min_samples_split=5, min_samples_leaf=2, random_state=31, alpha=0.9)\n",
    "clf.fit(inputs_train, labels_train)\n",
    "labels_predict = clf.predict(inputs_test)\n",
    "print labels_test\n",
    "print labels_predict\n",
    "print \"EVS\", explained_variance_score(labels_test, labels_predict)\n",
    "print \"MAE\", mean_absolute_error(labels_test, labels_predict)\n",
    "print \"MSE\", mean_squared_error(labels_test, labels_predict)\n",
    "print \"MedAE\", median_absolute_error(labels_test, labels_predict)\n",
    "print \"r^2\", r2_score(labels_test, labels_predict)"
   ]
  },
  {
   "cell_type": "markdown",
   "metadata": {},
   "source": [
    "### Random Forest Regression"
   ]
  },
  {
   "cell_type": "code",
   "execution_count": 23,
   "metadata": {
    "collapsed": false
   },
   "outputs": [
    {
     "name": "stdout",
     "output_type": "stream",
     "text": [
      "[ 10000.   2000.   5000. ...,  18500.  30000.  23000.]\n",
      "[  9516.66666667    564.43253968   4778.57142857 ...,  21407.\n",
      "  35871.42857143  16646.3452381 ]\n",
      "EVS 0.511044580666\n",
      "MAE 4998.38333244\n",
      "MSE 78560649.9964\n",
      "MedAE 1919.21230159\n",
      "r^2 0.510801536185\n"
     ]
    }
   ],
   "source": [
    "from sklearn.ensemble import RandomForestRegressor\n",
    "\n",
    "clf = RandomForestRegressor(n_estimators=10, min_samples_split=5, min_samples_leaf=2, n_jobs=-1, random_state=31)\n",
    "clf.fit(inputs_train, labels_train)\n",
    "labels_predict = clf.predict(inputs_test)\n",
    "print labels_test\n",
    "print labels_predict\n",
    "print \"EVS\", explained_variance_score(labels_test, labels_predict)\n",
    "print \"MAE\", mean_absolute_error(labels_test, labels_predict)\n",
    "print \"MSE\", mean_squared_error(labels_test, labels_predict)\n",
    "print \"MedAE\", median_absolute_error(labels_test, labels_predict)\n",
    "print \"r^2\", r2_score(labels_test, labels_predict)"
   ]
  },
  {
   "cell_type": "markdown",
   "metadata": {},
   "source": [
    "## Analysis\n",
    "\n",
    "Lots of useful results here, let's start with the dummy model.  Just ignoring the inputs, the random regressor produced predictably bad results:\n",
    "\n",
    "```\n",
    "EVS 0.0\n",
    "MAE 8994.24919087\n",
    "MSE 160592565.919\n",
    "MedAE 7324.2225209\n",
    "r^2 -1.25578303172e-05\n",
    "```\n",
    "\n",
    "a negative r squared number and a mean absolute error of $8,994 (which was actually surprisingly small, I expected this to be worse.  The basic naive linear regression produced surprisingly good results:\n",
    "\n",
    "```\n",
    "EVS 0.337502798405\n",
    "MAE 6771.33527034\n",
    "MSE 106391864.925\n",
    "MedAE 3994.0\n",
    "r^2 0.337496101598\n",
    "```\n",
    "\n",
    "a median error of $3,994 when we're talking about damages up 5-6 digits is not too bad, especially because precision isn't nearly as important as order of magnitude in this use case. Most of the other non-ensemble methods have scores very similar to the naive regression.  DecisionTree is one that stands out; although it's r-squared is lower than other simple regressions, it's mean and median absolute errors are quite low.  I expect there are some few values that it's _way_ off on that are skewing the scores.  It's not surprising to me that decision trees work well based uponHowever, even with no parameter tuning yet, the ensemble methods are looking really good right out of the gate.  Both Random Forest and Gradient Boost regressions have r-squared scores over 0.5 with no particular tuning.  Based on MSE, it seems like Random Forest, Gradient Boost, and Bagging are all candidates for hyperparameter tuning and optimization, we can see from there which ones play out."
   ]
  },
  {
   "cell_type": "code",
   "execution_count": null,
   "metadata": {
    "collapsed": true
   },
   "outputs": [],
   "source": []
  }
 ],
 "metadata": {
  "kernelspec": {
   "display_name": "Python 2",
   "language": "python",
   "name": "python2"
  },
  "language_info": {
   "codemirror_mode": {
    "name": "ipython",
    "version": 2
   },
   "file_extension": ".py",
   "mimetype": "text/x-python",
   "name": "python",
   "nbconvert_exporter": "python",
   "pygments_lexer": "ipython2",
   "version": "2.7.10"
  }
 },
 "nbformat": 4,
 "nbformat_minor": 0
}
