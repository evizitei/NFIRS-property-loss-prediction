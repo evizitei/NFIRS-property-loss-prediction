{
 "cells": [
  {
   "cell_type": "markdown",
   "metadata": {},
   "source": [
    "# Algorithm Experimentation"
   ]
  },
  {
   "cell_type": "markdown",
   "metadata": {},
   "source": [
    "Here I'm going to play with a bunch of different models and see which ones look promising for further tuning."
   ]
  },
  {
   "cell_type": "code",
   "execution_count": 1,
   "metadata": {
    "collapsed": true
   },
   "outputs": [],
   "source": [
    "import sqlite3\n",
    "import numpy as np\n",
    "conn = sqlite3.connect('./sqlite/training_incidents.sqlite')"
   ]
  },
  {
   "cell_type": "markdown",
   "metadata": {},
   "source": [
    "### Get data into memory in trainable shape\n"
   ]
  },
  {
   "cell_type": "code",
   "execution_count": 2,
   "metadata": {
    "collapsed": false
   },
   "outputs": [],
   "source": [
    "# get data from SQLite into array in memory\n",
    "all_data = []\n",
    "db_results = conn.execute(\"SELECT * from incidents\")\n",
    "for rec in db_results:\n",
    "    all_data.append(np.array(rec))"
   ]
  },
  {
   "cell_type": "code",
   "execution_count": 3,
   "metadata": {
    "collapsed": false
   },
   "outputs": [
    {
     "name": "stdout",
     "output_type": "stream",
     "text": [
      "162256\n",
      "162256\n",
      "[  0.00000000e+00   0.00000000e+00   1.00000000e+00   0.00000000e+00\n",
      "   0.00000000e+00   0.00000000e+00   1.00000000e+00   0.00000000e+00\n",
      "   0.00000000e+00   0.00000000e+00   1.00000000e+00   0.00000000e+00\n",
      "   0.00000000e+00   0.00000000e+00   1.00000000e+00   0.00000000e+00\n",
      "   0.00000000e+00   0.00000000e+00   9.04255319e-02   2.97619048e-02\n",
      "   0.00000000e+00   1.49253731e-02   2.10629656e-04   0.00000000e+00\n",
      "   1.00000000e+00   0.00000000e+00   0.00000000e+00   0.00000000e+00\n",
      "   0.00000000e+00   1.00000000e+00   0.00000000e+00   0.00000000e+00\n",
      "   0.00000000e+00   0.00000000e+00   0.00000000e+00   0.00000000e+00\n",
      "   1.00000000e+00   0.00000000e+00   0.00000000e+00   1.00000000e+00\n",
      "   0.00000000e+00   0.00000000e+00   0.00000000e+00   0.00000000e+00\n",
      "   0.00000000e+00   1.00000000e+00   0.00000000e+00   0.00000000e+00\n",
      "   0.00000000e+00   0.00000000e+00   0.00000000e+00   1.00000000e+00\n",
      "   0.00000000e+00   0.00000000e+00   0.00000000e+00   0.00000000e+00\n",
      "   7.09467456e-04   1.00000000e+00   0.00000000e+00   0.00000000e+00\n",
      "   0.00000000e+00]\n",
      "7.60090245954\n"
     ]
    }
   ],
   "source": [
    "# split data into inputs and labels\n",
    "inputs = []\n",
    "labels = []\n",
    "for rec in all_data:\n",
    "    labels.append(rec[1])\n",
    "    inputs.append(rec[2:])\n",
    "\n",
    "all_inputs = np.array(inputs)\n",
    "all_labels = np.array(labels)\n",
    "\n",
    "print len(all_inputs)\n",
    "print len(all_labels)\n",
    "\n",
    "print all_inputs[0]\n",
    "print all_labels[0]"
   ]
  },
  {
   "cell_type": "markdown",
   "metadata": {},
   "source": [
    "### Split into training and test sets"
   ]
  },
  {
   "cell_type": "code",
   "execution_count": 4,
   "metadata": {
    "collapsed": false
   },
   "outputs": [],
   "source": [
    "from sklearn.cross_validation import train_test_split\n",
    "inputs_train, inputs_test, labels_train, labels_test = train_test_split(all_inputs, all_labels, test_size=0.10, random_state=30)\n",
    "\n",
    "from sklearn.metrics import explained_variance_score\n",
    "from sklearn.metrics import mean_absolute_error\n",
    "from sklearn.metrics import mean_squared_error\n",
    "from sklearn.metrics import median_absolute_error\n",
    "from sklearn.metrics import r2_score"
   ]
  },
  {
   "cell_type": "markdown",
   "metadata": {},
   "source": [
    "### Dummy Regression\n"
   ]
  },
  {
   "cell_type": "code",
   "execution_count": 5,
   "metadata": {
    "collapsed": false
   },
   "outputs": [
    {
     "name": "stdout",
     "output_type": "stream",
     "text": [
      "EVS 0.0\n",
      "MAE 1.56258541876\n",
      "MSE 4.43610116624\n",
      "MedAE 1.39117735278\n",
      "r^2 -3.33379834123e-05\n"
     ]
    }
   ],
   "source": [
    "from sklearn.dummy import DummyRegressor\n",
    "\n",
    "clf = DummyRegressor()\n",
    "clf.fit(inputs_train, labels_train)\n",
    "labels_predict = clf.predict(inputs_test)\n",
    "\n",
    "print \"EVS\", explained_variance_score(labels_test, labels_predict)\n",
    "print \"MAE\", mean_absolute_error(labels_test, labels_predict)\n",
    "print \"MSE\", mean_squared_error(labels_test, labels_predict)\n",
    "print \"MedAE\", median_absolute_error(labels_test, labels_predict)\n",
    "print \"r^2\", r2_score(labels_test, labels_predict)\n",
    "\n"
   ]
  },
  {
   "cell_type": "markdown",
   "metadata": {},
   "source": [
    "### Naive LinearRegression"
   ]
  },
  {
   "cell_type": "code",
   "execution_count": 6,
   "metadata": {
    "collapsed": false
   },
   "outputs": [
    {
     "name": "stderr",
     "output_type": "stream",
     "text": [
      "/usr/local/lib/python2.7/site-packages/scipy/linalg/basic.py:884: RuntimeWarning: internal gelsd driver lwork query error, required iwork dimension not returned. This is likely the result of LAPACK bug 0038, fixed in LAPACK 3.2.2 (released July 21, 2010). Falling back to 'gelss' driver.\n",
      "  warnings.warn(mesg, RuntimeWarning)\n"
     ]
    },
    {
     "name": "stdout",
     "output_type": "stream",
     "text": [
      "[ 7.60090246  6.2146081   7.13089883 ...,  9.61580548  7.52240023\n",
      "  9.90348755]\n",
      "[ 8.23730469  7.23046875  5.32910156 ...,  7.70507812  7.28320312\n",
      "  9.21484375]\n",
      "EVS 0.347285692111\n",
      "MAE 1.21626071288\n",
      "MSE 2.89541094851\n",
      "MedAE 0.937364216181\n",
      "r^2 0.347285517809\n"
     ]
    }
   ],
   "source": [
    "from sklearn import linear_model\n",
    "clf = linear_model.LinearRegression()\n",
    "clf.fit(inputs_train, labels_train)\n",
    "labels_predict = clf.predict(inputs_test)\n",
    "print labels_test\n",
    "print labels_predict\n",
    "print \"EVS\", explained_variance_score(labels_test, labels_predict)\n",
    "print \"MAE\", mean_absolute_error(labels_test, labels_predict)\n",
    "print \"MSE\", mean_squared_error(labels_test, labels_predict)\n",
    "print \"MedAE\", median_absolute_error(labels_test, labels_predict)\n",
    "print \"r^2\", r2_score(labels_test, labels_predict)\n"
   ]
  },
  {
   "cell_type": "markdown",
   "metadata": {},
   "source": [
    "### Ridge Regression"
   ]
  },
  {
   "cell_type": "code",
   "execution_count": 7,
   "metadata": {
    "collapsed": false
   },
   "outputs": [
    {
     "name": "stdout",
     "output_type": "stream",
     "text": [
      "[ 7.60090246  6.2146081   7.13089883 ...,  9.61580548  7.52240023\n",
      "  9.90348755]\n",
      "[ 8.2337465   7.22991219  5.27001242 ...,  7.66760418  7.28340093\n",
      "  9.23120098]\n",
      "EVS 0.347364112726\n",
      "MAE 1.21621885287\n",
      "MSE 2.89506232303\n",
      "MedAE 0.938697121699\n",
      "r^2 0.34736410869\n"
     ]
    }
   ],
   "source": [
    "clf = linear_model.Ridge(alpha = 1.0)\n",
    "clf.fit(inputs_train, labels_train)\n",
    "labels_predict = clf.predict(inputs_test)\n",
    "print labels_test\n",
    "print labels_predict\n",
    "print \"EVS\", explained_variance_score(labels_test, labels_predict)\n",
    "print \"MAE\", mean_absolute_error(labels_test, labels_predict)\n",
    "print \"MSE\", mean_squared_error(labels_test, labels_predict)\n",
    "print \"MedAE\", median_absolute_error(labels_test, labels_predict)\n",
    "print \"r^2\", r2_score(labels_test, labels_predict)"
   ]
  },
  {
   "cell_type": "markdown",
   "metadata": {},
   "source": [
    "### Lasso Regression"
   ]
  },
  {
   "cell_type": "code",
   "execution_count": 8,
   "metadata": {
    "collapsed": false
   },
   "outputs": [
    {
     "name": "stdout",
     "output_type": "stream",
     "text": [
      "[ 7.60090246  6.2146081   7.13089883 ...,  9.61580548  7.52240023\n",
      "  9.90348755]\n",
      "[ 7.94187503  7.44677656  7.14776276 ...,  7.9156455   7.45113925\n",
      "  8.39462487]\n",
      "EVS 0.154660444835\n",
      "MAE 1.4200431766\n",
      "MSE 3.74992400501\n",
      "MedAE 1.13946967413\n",
      "r^2 0.154652051569\n"
     ]
    }
   ],
   "source": [
    "clf = linear_model.Lasso(alpha = 0.1)\n",
    "clf.fit(inputs_train, labels_train)\n",
    "labels_predict = clf.predict(inputs_test)\n",
    "print labels_test\n",
    "print labels_predict\n",
    "print \"EVS\", explained_variance_score(labels_test, labels_predict)\n",
    "print \"MAE\", mean_absolute_error(labels_test, labels_predict)\n",
    "print \"MSE\", mean_squared_error(labels_test, labels_predict)\n",
    "print \"MedAE\", median_absolute_error(labels_test, labels_predict)\n",
    "print \"r^2\", r2_score(labels_test, labels_predict)"
   ]
  },
  {
   "cell_type": "markdown",
   "metadata": {},
   "source": [
    "### ElasticNet Regression"
   ]
  },
  {
   "cell_type": "code",
   "execution_count": 9,
   "metadata": {
    "collapsed": false
   },
   "outputs": [
    {
     "name": "stdout",
     "output_type": "stream",
     "text": [
      "[ 7.60090246  6.2146081   7.13089883 ...,  9.61580548  7.52240023\n",
      "  9.90348755]\n",
      "[ 7.92789745  7.48147052  7.01870574 ...,  8.01079787  7.48514401\n",
      "  8.46332887]\n",
      "EVS 0.162612066188\n",
      "MAE 1.41469766203\n",
      "MSE 3.71464885882\n",
      "MedAE 1.13659862355\n",
      "r^2 0.162604152044\n"
     ]
    }
   ],
   "source": [
    "clf = linear_model.ElasticNet(alpha=0.1, l1_ratio=0.85)\n",
    "clf.fit(inputs_train, labels_train)\n",
    "labels_predict = clf.predict(inputs_test)\n",
    "print labels_test\n",
    "print labels_predict\n",
    "print \"EVS\", explained_variance_score(labels_test, labels_predict)\n",
    "print \"MAE\", mean_absolute_error(labels_test, labels_predict)\n",
    "print \"MSE\", mean_squared_error(labels_test, labels_predict)\n",
    "print \"MedAE\", median_absolute_error(labels_test, labels_predict)\n",
    "print \"r^2\", r2_score(labels_test, labels_predict)"
   ]
  },
  {
   "cell_type": "markdown",
   "metadata": {},
   "source": [
    "### Stochastic Gradient Descent"
   ]
  },
  {
   "cell_type": "code",
   "execution_count": 10,
   "metadata": {
    "collapsed": false
   },
   "outputs": [
    {
     "name": "stdout",
     "output_type": "stream",
     "text": [
      "[ 7.60090246  6.2146081   7.13089883 ...,  9.61580548  7.52240023\n",
      "  9.90348755]\n",
      "[ 8.28875994  7.26963642  5.36622562 ...,  7.84278183  7.32357312\n",
      "  9.36043443]\n",
      "EVS 0.346702814386\n",
      "MAE 1.21042123882\n",
      "MSE 2.90106638084\n",
      "MedAE 0.928586210792\n",
      "r^2 0.346010609807\n"
     ]
    }
   ],
   "source": [
    "clf = linear_model.SGDRegressor(loss='squared_loss', penalty='l2', alpha=0.001, l1_ratio=0.15, n_iter=50,\n",
    "                                learning_rate='invscaling', eta0=0.01, power_t=0.25)\n",
    "clf.fit(inputs_train, labels_train)\n",
    "labels_predict = clf.predict(inputs_test)\n",
    "print labels_test\n",
    "print labels_predict\n",
    "print \"EVS\", explained_variance_score(labels_test, labels_predict)\n",
    "print \"MAE\", mean_absolute_error(labels_test, labels_predict)\n",
    "print \"MSE\", mean_squared_error(labels_test, labels_predict)\n",
    "print \"MedAE\", median_absolute_error(labels_test, labels_predict)\n",
    "print \"r^2\", r2_score(labels_test, labels_predict)"
   ]
  },
  {
   "cell_type": "markdown",
   "metadata": {},
   "source": [
    "### Bayseian Regression\n"
   ]
  },
  {
   "cell_type": "code",
   "execution_count": 11,
   "metadata": {
    "collapsed": false
   },
   "outputs": [
    {
     "name": "stdout",
     "output_type": "stream",
     "text": [
      "[ 7.60090246  6.2146081   7.13089883 ...,  9.61580548  7.52240023\n",
      "  9.90348755]\n",
      "[ 8.23379852  7.23072882  5.27335338 ...,  7.66901131  7.28458753\n",
      "  9.23769374]\n",
      "EVS 0.347298323291\n",
      "MAE 1.21627237018\n",
      "MSE 2.89535417793\n",
      "MedAE 0.939232250163\n",
      "r^2 0.347298315639\n"
     ]
    }
   ],
   "source": [
    "clf = linear_model.BayesianRidge(n_iter=300, tol=0.001, alpha_1=1e-06, alpha_2=1e-06, lambda_1=1e-06, lambda_2=1e-06)\n",
    "clf.fit(inputs_train, labels_train)\n",
    "labels_predict = clf.predict(inputs_test)\n",
    "print labels_test\n",
    "print labels_predict\n",
    "print \"EVS\", explained_variance_score(labels_test, labels_predict)\n",
    "print \"MAE\", mean_absolute_error(labels_test, labels_predict)\n",
    "print \"MSE\", mean_squared_error(labels_test, labels_predict)\n",
    "print \"MedAE\", median_absolute_error(labels_test, labels_predict)\n",
    "print \"r^2\", r2_score(labels_test, labels_predict)"
   ]
  },
  {
   "cell_type": "markdown",
   "metadata": {},
   "source": [
    "### Passive Aggressive Regression"
   ]
  },
  {
   "cell_type": "code",
   "execution_count": 12,
   "metadata": {
    "collapsed": false
   },
   "outputs": [
    {
     "name": "stdout",
     "output_type": "stream",
     "text": [
      "[ 7.60090246  6.2146081   7.13089883 ...,  9.61580548  7.52240023\n",
      "  9.90348755]\n",
      "[ 9.65134992  9.78907633  8.63205319 ...,  7.17820072  9.87824068\n",
      "  9.91837588]\n",
      "EVS 0.0942227227386\n",
      "MAE 1.72025464872\n",
      "MSE 5.40196804218\n",
      "MedAE 1.35588450982\n",
      "r^2 -0.217769372351\n"
     ]
    }
   ],
   "source": [
    "clf = linear_model.PassiveAggressiveRegressor(C=5.0, n_iter=50, loss='epsilon_insensitive', epsilon=0.5, random_state=31)\n",
    "clf.fit(inputs_train, labels_train)\n",
    "labels_predict = clf.predict(inputs_test)\n",
    "print labels_test\n",
    "print labels_predict\n",
    "print \"EVS\", explained_variance_score(labels_test, labels_predict)\n",
    "print \"MAE\", mean_absolute_error(labels_test, labels_predict)\n",
    "print \"MSE\", mean_squared_error(labels_test, labels_predict)\n",
    "print \"MedAE\", median_absolute_error(labels_test, labels_predict)\n",
    "print \"r^2\", r2_score(labels_test, labels_predict)"
   ]
  },
  {
   "cell_type": "markdown",
   "metadata": {},
   "source": [
    "### RANSAC regression"
   ]
  },
  {
   "cell_type": "code",
   "execution_count": 13,
   "metadata": {
    "collapsed": false
   },
   "outputs": [
    {
     "name": "stdout",
     "output_type": "stream",
     "text": [
      "[ 7.60090246  6.2146081   7.13089883 ...,  9.61580548  7.52240023\n",
      "  9.90348755]\n",
      "[ 9.45288086  7.08081055  7.45922852 ...,  8.68212891  7.05786133\n",
      "  9.16699219]\n",
      "EVS -7.72965385936\n",
      "MAE 2.35748594294\n",
      "MSE 38.7751449271\n",
      "MedAE 1.02439986228\n",
      "r^2 -7.74110759857\n"
     ]
    }
   ],
   "source": [
    "clf = linear_model.RANSACRegressor(random_state=31)\n",
    "clf.fit(inputs_train, labels_train)\n",
    "labels_predict = clf.predict(inputs_test)\n",
    "print labels_test\n",
    "print labels_predict\n",
    "print \"EVS\", explained_variance_score(labels_test, labels_predict)\n",
    "print \"MAE\", mean_absolute_error(labels_test, labels_predict)\n",
    "print \"MSE\", mean_squared_error(labels_test, labels_predict)\n",
    "print \"MedAE\", median_absolute_error(labels_test, labels_predict)\n",
    "print \"r^2\", r2_score(labels_test, labels_predict)"
   ]
  },
  {
   "cell_type": "markdown",
   "metadata": {},
   "source": [
    "### TheilSenRegressor"
   ]
  },
  {
   "cell_type": "code",
   "execution_count": 14,
   "metadata": {
    "collapsed": false
   },
   "outputs": [
    {
     "name": "stdout",
     "output_type": "stream",
     "text": [
      "[ 7.60090246  6.2146081   7.13089883 ...,  9.61580548  7.52240023\n",
      "  9.90348755]\n",
      "[ 8.24306248  7.21379487  5.44141752 ...,  7.42865163  7.29338415\n",
      "  9.27517088]\n",
      "EVS 0.282489148493\n",
      "MAE 1.24444780116\n",
      "MSE 3.18531519239\n",
      "MedAE 0.940333868429\n",
      "r^2 0.281932204654\n"
     ]
    }
   ],
   "source": [
    "clf = linear_model.TheilSenRegressor(random_state=31)\n",
    "clf.fit(inputs_train, labels_train)\n",
    "labels_predict = clf.predict(inputs_test)\n",
    "print labels_test\n",
    "print labels_predict\n",
    "print \"EVS\", explained_variance_score(labels_test, labels_predict)\n",
    "print \"MAE\", mean_absolute_error(labels_test, labels_predict)\n",
    "print \"MSE\", mean_squared_error(labels_test, labels_predict)\n",
    "print \"MedAE\", median_absolute_error(labels_test, labels_predict)\n",
    "print \"r^2\", r2_score(labels_test, labels_predict)"
   ]
  },
  {
   "cell_type": "markdown",
   "metadata": {},
   "source": [
    "### DecisionTree Regression"
   ]
  },
  {
   "cell_type": "code",
   "execution_count": 15,
   "metadata": {
    "collapsed": false
   },
   "outputs": [
    {
     "name": "stdout",
     "output_type": "stream",
     "text": [
      "[ 7.60090246  6.2146081   7.13089883 ...,  9.61580548  7.52240023\n",
      "  9.90348755]\n",
      "[  7.52898194   6.76391424   7.27395938 ...,   8.65234823   8.20657186\n",
      "  10.24817881]\n",
      "EVS 0.416083706276\n",
      "MAE 1.01082551069\n",
      "MSE 2.59044823332\n",
      "MedAE 0.618765996789\n",
      "r^2 0.416033472511\n"
     ]
    }
   ],
   "source": [
    "from sklearn.tree import DecisionTreeRegressor\n",
    "clf = DecisionTreeRegressor(min_samples_leaf=2, min_samples_split=5, random_state=31)\n",
    "\n",
    "clf.fit(inputs_train, labels_train)\n",
    "labels_predict = clf.predict(inputs_test)\n",
    "print labels_test\n",
    "print labels_predict\n",
    "print \"EVS\", explained_variance_score(labels_test, labels_predict)\n",
    "print \"MAE\", mean_absolute_error(labels_test, labels_predict)\n",
    "print \"MSE\", mean_squared_error(labels_test, labels_predict)\n",
    "print \"MedAE\", median_absolute_error(labels_test, labels_predict)\n",
    "print \"r^2\", r2_score(labels_test, labels_predict)"
   ]
  },
  {
   "cell_type": "markdown",
   "metadata": {},
   "source": [
    "### ExtraTree Regression"
   ]
  },
  {
   "cell_type": "code",
   "execution_count": 16,
   "metadata": {
    "collapsed": false
   },
   "outputs": [
    {
     "name": "stdout",
     "output_type": "stream",
     "text": [
      "[ 7.60090246  6.2146081   7.13089883 ...,  9.61580548  7.52240023\n",
      "  9.90348755]\n",
      "[ 7.60090246  5.98355904  5.37269855 ...,  6.90775528  8.40562142\n",
      "  9.80759353]\n",
      "EVS 0.260549402262\n",
      "MAE 1.2321955925\n",
      "MSE 3.28019766204\n",
      "MedAE 0.840093846785\n",
      "r^2 0.26054278424\n"
     ]
    }
   ],
   "source": [
    "from sklearn.tree import ExtraTreeRegressor\n",
    "clf = ExtraTreeRegressor(min_samples_split=5, min_samples_leaf=2, random_state=31)\n",
    "clf.fit(inputs_train, labels_train)\n",
    "labels_predict = clf.predict(inputs_test)\n",
    "print labels_test\n",
    "print labels_predict\n",
    "print \"EVS\", explained_variance_score(labels_test, labels_predict)\n",
    "print \"MAE\", mean_absolute_error(labels_test, labels_predict)\n",
    "print \"MSE\", mean_squared_error(labels_test, labels_predict)\n",
    "print \"MedAE\", median_absolute_error(labels_test, labels_predict)\n",
    "print \"r^2\", r2_score(labels_test, labels_predict)"
   ]
  },
  {
   "cell_type": "markdown",
   "metadata": {},
   "source": [
    "### Support Vector Machine Regression"
   ]
  },
  {
   "cell_type": "code",
   "execution_count": 17,
   "metadata": {
    "collapsed": false
   },
   "outputs": [
    {
     "data": {
      "text/plain": [
       "SVR(C=1.0, cache_size=200, coef0=0.0, degree=3, epsilon=0.1, gamma='auto',\n",
       "  kernel='rbf', max_iter=-1, shrinking=True, tol=0.001, verbose=False)"
      ]
     },
     "execution_count": 17,
     "metadata": {},
     "output_type": "execute_result"
    }
   ],
   "source": [
    "from sklearn import svm\n",
    "clf = svm.SVR()\n",
    "\n",
    "# svm takes 5-evar on full dataset\n",
    "svm_inputs, other_inputs, svm_labels, other_labels = train_test_split(inputs_train, labels_train, test_size=0.90, random_state=30)\n",
    "clf.fit(svm_inputs, svm_labels)"
   ]
  },
  {
   "cell_type": "code",
   "execution_count": 18,
   "metadata": {
    "collapsed": false
   },
   "outputs": [
    {
     "name": "stdout",
     "output_type": "stream",
     "text": [
      "[ 7.60090246  6.2146081   7.13089883 ...,  9.61580548  7.52240023\n",
      "  9.90348755]\n",
      "[ 8.74553845  7.40230594  5.46685168 ...,  8.32342493  7.4466364   9.5860955 ]\n",
      "EVS 0.345625791876\n",
      "MAE 1.19843029269\n",
      "MSE 2.95048549975\n",
      "MedAE 0.890304183378\n",
      "r^2 0.334870023831\n"
     ]
    }
   ],
   "source": [
    "labels_predict = clf.predict(inputs_test)\n",
    "print labels_test\n",
    "print labels_predict\n",
    "print \"EVS\", explained_variance_score(labels_test, labels_predict)\n",
    "print \"MAE\", mean_absolute_error(labels_test, labels_predict)\n",
    "print \"MSE\", mean_squared_error(labels_test, labels_predict)\n",
    "print \"MedAE\", median_absolute_error(labels_test, labels_predict)\n",
    "print \"r^2\", r2_score(labels_test, labels_predict)"
   ]
  },
  {
   "cell_type": "markdown",
   "metadata": {},
   "source": [
    "### AdaBoost Regression"
   ]
  },
  {
   "cell_type": "code",
   "execution_count": 19,
   "metadata": {
    "collapsed": false
   },
   "outputs": [
    {
     "name": "stdout",
     "output_type": "stream",
     "text": [
      "[ 7.60090246  6.2146081   7.13089883 ...,  9.61580548  7.52240023\n",
      "  9.90348755]\n",
      "[ 7.29476505  6.60219495  5.91612847 ...,  5.91612847  6.60219495\n",
      "  7.88586816]\n",
      "EVS 0.52086896463\n",
      "MAE 1.26715586397\n",
      "MSE 2.63043661006\n",
      "MedAE 1.02591720935\n",
      "r^2 0.407018865231\n"
     ]
    }
   ],
   "source": [
    "from sklearn.ensemble import AdaBoostRegressor\n",
    "\n",
    "clf = AdaBoostRegressor(n_estimators=50, learning_rate=1.0, loss='linear', random_state=31)\n",
    "clf.fit(inputs_train, labels_train)\n",
    "labels_predict = clf.predict(inputs_test)\n",
    "print labels_test\n",
    "print labels_predict\n",
    "print \"EVS\", explained_variance_score(labels_test, labels_predict)\n",
    "print \"MAE\", mean_absolute_error(labels_test, labels_predict)\n",
    "print \"MSE\", mean_squared_error(labels_test, labels_predict)\n",
    "print \"MedAE\", median_absolute_error(labels_test, labels_predict)\n",
    "print \"r^2\", r2_score(labels_test, labels_predict)"
   ]
  },
  {
   "cell_type": "markdown",
   "metadata": {},
   "source": [
    "### Bagging Regression\n"
   ]
  },
  {
   "cell_type": "code",
   "execution_count": 20,
   "metadata": {
    "collapsed": false
   },
   "outputs": [
    {
     "name": "stdout",
     "output_type": "stream",
     "text": [
      "[ 7.60090246  6.2146081   7.13089883 ...,  9.61580548  7.52240023\n",
      "  9.90348755]\n",
      "[ 7.17364127  6.87377547  4.48069071 ...,  8.31286294  8.24400372\n",
      "  9.37252642]\n",
      "EVS 0.594771267463\n",
      "MAE 0.869870997385\n",
      "MSE 1.8004320005\n",
      "MedAE 0.552146091786\n",
      "r^2 0.594127375415\n"
     ]
    }
   ],
   "source": [
    "from sklearn.ensemble import BaggingRegressor\n",
    "\n",
    "clf = BaggingRegressor(n_estimators=10, n_jobs=-1, random_state=31)\n",
    "clf.fit(inputs_train, labels_train)\n",
    "labels_predict = clf.predict(inputs_test)\n",
    "print labels_test\n",
    "print labels_predict\n",
    "print \"EVS\", explained_variance_score(labels_test, labels_predict)\n",
    "print \"MAE\", mean_absolute_error(labels_test, labels_predict)\n",
    "print \"MSE\", mean_squared_error(labels_test, labels_predict)\n",
    "print \"MedAE\", median_absolute_error(labels_test, labels_predict)\n",
    "print \"r^2\", r2_score(labels_test, labels_predict)"
   ]
  },
  {
   "cell_type": "markdown",
   "metadata": {},
   "source": [
    "### Extra Trees Ensemble Regression"
   ]
  },
  {
   "cell_type": "code",
   "execution_count": 21,
   "metadata": {
    "collapsed": false
   },
   "outputs": [
    {
     "name": "stdout",
     "output_type": "stream",
     "text": [
      "[ 7.60090246  6.2146081   7.13089883 ...,  9.61580548  7.52240023\n",
      "  9.90348755]\n",
      "[ 8.24286966  6.55576324  4.9489376  ...,  8.13284527  8.44511369\n",
      "  9.68104999]\n",
      "EVS 0.51120645102\n",
      "MAE 0.995278386013\n",
      "MSE 2.16837362787\n",
      "MedAE 0.675744425944\n",
      "r^2 0.511182041209\n"
     ]
    }
   ],
   "source": [
    "from sklearn.ensemble import ExtraTreesRegressor\n",
    "\n",
    "clf = ExtraTreesRegressor(n_estimators=10, min_samples_split=5, min_samples_leaf=2, n_jobs=-11, random_state=31)\n",
    "clf.fit(inputs_train, labels_train)\n",
    "labels_predict = clf.predict(inputs_test)\n",
    "print labels_test\n",
    "print labels_predict\n",
    "print \"EVS\", explained_variance_score(labels_test, labels_predict)\n",
    "print \"MAE\", mean_absolute_error(labels_test, labels_predict)\n",
    "print \"MSE\", mean_squared_error(labels_test, labels_predict)\n",
    "print \"MedAE\", median_absolute_error(labels_test, labels_predict)\n",
    "print \"r^2\", r2_score(labels_test, labels_predict)"
   ]
  },
  {
   "cell_type": "markdown",
   "metadata": {},
   "source": [
    "### Gradient Boost Regression"
   ]
  },
  {
   "cell_type": "code",
   "execution_count": 22,
   "metadata": {
    "collapsed": false
   },
   "outputs": [
    {
     "name": "stdout",
     "output_type": "stream",
     "text": [
      "[ 7.60090246  6.2146081   7.13089883 ...,  9.61580548  7.52240023\n",
      "  9.90348755]\n",
      "[ 7.57316049  6.74993082  6.48124198 ...,  7.02860952  7.83939272\n",
      "  9.3038018 ]\n",
      "EVS 0.633519637141\n",
      "MAE 0.845661823286\n",
      "MSE 1.62569279953\n",
      "MedAE 0.568967408315\n",
      "r^2 0.63351895371\n"
     ]
    }
   ],
   "source": [
    "from sklearn.ensemble import GradientBoostingRegressor\n",
    "\n",
    "clf = GradientBoostingRegressor(loss='ls', learning_rate=0.1, n_estimators=100, subsample=1.0,\n",
    "                                 min_samples_split=5, min_samples_leaf=2, random_state=31, alpha=0.9)\n",
    "clf.fit(inputs_train, labels_train)\n",
    "labels_predict = clf.predict(inputs_test)\n",
    "print labels_test\n",
    "print labels_predict\n",
    "print \"EVS\", explained_variance_score(labels_test, labels_predict)\n",
    "print \"MAE\", mean_absolute_error(labels_test, labels_predict)\n",
    "print \"MSE\", mean_squared_error(labels_test, labels_predict)\n",
    "print \"MedAE\", median_absolute_error(labels_test, labels_predict)\n",
    "print \"r^2\", r2_score(labels_test, labels_predict)"
   ]
  },
  {
   "cell_type": "markdown",
   "metadata": {},
   "source": [
    "### Random Forest Regression"
   ]
  },
  {
   "cell_type": "code",
   "execution_count": 23,
   "metadata": {
    "collapsed": false
   },
   "outputs": [
    {
     "name": "stdout",
     "output_type": "stream",
     "text": [
      "[ 7.60090246  6.2146081   7.13089883 ...,  9.61580548  7.52240023\n",
      "  9.90348755]\n",
      "[ 7.32236257  6.77827536  5.66432801 ...,  8.65809819  8.07618883\n",
      "  9.72288033]\n",
      "EVS 0.618824479808\n",
      "MAE 0.843130942967\n",
      "MSE 1.69186743076\n",
      "MedAE 0.530264030961\n",
      "r^2 0.618601161064\n"
     ]
    }
   ],
   "source": [
    "from sklearn.ensemble import RandomForestRegressor\n",
    "\n",
    "clf = RandomForestRegressor(n_estimators=10, min_samples_split=5, min_samples_leaf=2, n_jobs=-1, random_state=31)\n",
    "clf.fit(inputs_train, labels_train)\n",
    "labels_predict = clf.predict(inputs_test)\n",
    "print labels_test\n",
    "print labels_predict\n",
    "print \"EVS\", explained_variance_score(labels_test, labels_predict)\n",
    "print \"MAE\", mean_absolute_error(labels_test, labels_predict)\n",
    "print \"MSE\", mean_squared_error(labels_test, labels_predict)\n",
    "print \"MedAE\", median_absolute_error(labels_test, labels_predict)\n",
    "print \"r^2\", r2_score(labels_test, labels_predict)"
   ]
  },
  {
   "cell_type": "markdown",
   "metadata": {},
   "source": [
    "## Analysis\n",
    "\n",
    "Lots of useful results here, let's start with the dummy model.  Just ignoring the inputs, the random regressor produced predictably bad results:\n",
    "\n",
    "```\n",
    "EVS 0.0\n",
    "MAE 1.56258541876\n",
    "MSE 4.43610116624\n",
    "MedAE 1.39117735278\n",
    "r^2 -3.33379834123e-05\n",
    "```\n",
    "\n",
    "a negative r squared number and a mean absolute error of 1.56.  The basic naive linear regression produced surprisingly decent results:\n",
    "\n",
    "```\n",
    "EVS 0.347285692111\n",
    "MAE 1.21626071288\n",
    "MSE 2.89541094851\n",
    "MedAE 0.937364216181\n",
    "r^2 0.347285517809\n",
    "```\n",
    "\n",
    "an r^2 of 0.34 when we're talking about damages up 5-6 digits is not too bad, especially because precision isn't nearly as important as order of magnitude in this use case. Most of the other non-ensemble methods have scores very similar to the naive regression.  DecisionTree is one that stands out; it's r-squared is > 0.4 and it's mean and median absolute errors are quite low compared to other simple regressions.   It's not surprising to me that decision trees work well based upon the simple categorical shape of many of the features.  However, even with no parameter tuning yet, the ensemble methods are looking really good right out of the gate.  Both Random Forest and Gradient Boost regressions have r-squared scores over 0.6 with no particular tuning.  Based on r^2, it seems like Random Forest, Gradient Boost, and Bagging are all candidates for hyperparameter tuning and optimization, we can see from there which ones play out."
   ]
  },
  {
   "cell_type": "code",
   "execution_count": null,
   "metadata": {
    "collapsed": true
   },
   "outputs": [],
   "source": []
  }
 ],
 "metadata": {
  "kernelspec": {
   "display_name": "Python 2",
   "language": "python",
   "name": "python2"
  },
  "language_info": {
   "codemirror_mode": {
    "name": "ipython",
    "version": 2
   },
   "file_extension": ".py",
   "mimetype": "text/x-python",
   "name": "python",
   "nbconvert_exporter": "python",
   "pygments_lexer": "ipython2",
   "version": "2.7.10"
  }
 },
 "nbformat": 4,
 "nbformat_minor": 0
}
