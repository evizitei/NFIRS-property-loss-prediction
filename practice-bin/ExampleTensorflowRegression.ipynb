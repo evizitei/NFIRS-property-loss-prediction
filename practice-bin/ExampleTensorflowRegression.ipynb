{
 "cells": [
  {
   "cell_type": "markdown",
   "metadata": {},
   "source": [
    "# Example Regression\n",
    "\n",
    "A practice run of using tensorflow to implement a linear regression learner."
   ]
  },
  {
   "cell_type": "code",
   "execution_count": 1,
   "metadata": {
    "collapsed": true
   },
   "outputs": [],
   "source": [
    "%matplotlib inline"
   ]
  },
  {
   "cell_type": "code",
   "execution_count": 2,
   "metadata": {
    "collapsed": true
   },
   "outputs": [],
   "source": [
    "\n",
    "\n",
    "import tensorflow as tf\n",
    "import numpy\n",
    "import matplotlib.pyplot as plt\n",
    "\n",
    "rand = numpy.random"
   ]
  },
  {
   "cell_type": "code",
   "execution_count": 3,
   "metadata": {
    "collapsed": false
   },
   "outputs": [],
   "source": [
    "# tweakable parameters\n",
    "learning_rate = 0.01\n",
    "training_epochs = 1000\n",
    "display_step = 50\n"
   ]
  },
  {
   "cell_type": "code",
   "execution_count": 4,
   "metadata": {
    "collapsed": true
   },
   "outputs": [],
   "source": [
    "# input data\n",
    "train_X = numpy.asarray([3.3,4.4,5.5,6.71,6.93,4.168,9.779,6.182,7.59,2.167,\n",
    "                         7.042,10.791,5.313,7.997,5.654,9.27,3.1])\n",
    "\n",
    "train_Y = numpy.asarray([1.7,2.76,2.09,3.19,1.694,1.573,3.366,2.596,2.53,1.221,\n",
    "                         2.827,3.465,1.65,2.904,2.42,2.94,1.3])\n",
    "n_samples = train_X.shape[0]"
   ]
  },
  {
   "cell_type": "code",
   "execution_count": 8,
   "metadata": {
    "collapsed": false
   },
   "outputs": [],
   "source": [
    "# things that can have values set at execution time\n",
    "x_val = tf.placeholder(\"float\")\n",
    "y_val = tf.placeholder(\"float\")\n",
    "\n",
    "# Things that can carry a value that will change throughout the session\n",
    "weight = tf.Variable(rand.randn(), name=\"weight\")\n",
    "bias = tf.Variable(rand.randn(), name=\"bias\")\n",
    "# by default these 2 variables are \"trainable=True\", which means\n",
    "# the optimizer will know to modify them as it runs\n",
    "\n",
    "external_x = tf.constant(8.971)\n",
    "\n",
    "# A TF \"op\", which will not be executed until run within the session\n",
    "pred = tf.add(tf.mul(x_val, weight), bias) # y = wx + b\n",
    "\n",
    "# Mean Squared Error\n",
    "cost = tf.reduce_sum(tf.pow(pred - y_val, 2))/(2*n_samples)\n",
    "# sum of (y` - y)^2 over saple count, small is better\n",
    "\n",
    "# Gradient descent\n",
    "optimizer = tf.train.GradientDescentOptimizer(learning_rate).minimize(cost)\n",
    "# cost is not calculated already, it is an op that will be calculated\n",
    "# when the session is running, so it can be evaluated for any of a number\n",
    "# of inputs\n",
    "\n",
    "init = tf.initialize_all_variables() # better than calling init on each var"
   ]
  },
  {
   "cell_type": "code",
   "execution_count": 9,
   "metadata": {
    "collapsed": false
   },
   "outputs": [
    {
     "name": "stdout",
     "output_type": "stream",
     "text": [
      "Epoch: 0050 cost= 0.094505794 W= 0.323735 b= 0.268096\n",
      "Epoch: 0100 cost= 0.092478141 W= 0.319326 b= 0.299818\n",
      "Epoch: 0150 cost= 0.090684913 W= 0.315179 b= 0.329653\n",
      "Epoch: 0200 cost= 0.089098983 W= 0.311278 b= 0.357714\n",
      "Epoch: 0250 cost= 0.087696411 W= 0.307609 b= 0.384106\n",
      "Epoch: 0300 cost= 0.086456001 W= 0.304159 b= 0.408929\n",
      "Epoch: 0350 cost= 0.085359037 W= 0.300913 b= 0.432274\n",
      "Epoch: 0400 cost= 0.084388964 W= 0.297861 b= 0.454232\n",
      "Epoch: 0450 cost= 0.083531067 W= 0.294991 b= 0.474884\n",
      "Epoch: 0500 cost= 0.082772426 W= 0.292291 b= 0.494308\n",
      "Epoch: 0550 cost= 0.082101613 W= 0.289751 b= 0.512575\n",
      "Epoch: 0600 cost= 0.081508413 W= 0.287363 b= 0.529757\n",
      "Epoch: 0650 cost= 0.080983847 W= 0.285117 b= 0.545917\n",
      "Epoch: 0700 cost= 0.080520041 W= 0.283004 b= 0.561116\n",
      "Epoch: 0750 cost= 0.080109909 W= 0.281017 b= 0.575412\n",
      "Epoch: 0800 cost= 0.079747267 W= 0.279148 b= 0.588857\n",
      "Epoch: 0850 cost= 0.079426631 W= 0.27739 b= 0.601503\n",
      "Epoch: 0900 cost= 0.079143167 W= 0.275736 b= 0.613398\n",
      "Epoch: 0950 cost= 0.078892589 W= 0.274182 b= 0.624582\n",
      "Epoch: 1000 cost= 0.078671061 W= 0.272719 b= 0.635101\n",
      "Finished!\n",
      "Training cost= 0.0786711 W= 0.272719 b= 0.635101 \n",
      "\n"
     ]
    },
    {
     "data": {
      "image/png": "[encoded data removed]",
      "text/plain": [
       "<matplotlib.figure.Figure at 0x10cf69a50>"
      ]
     },
     "metadata": {},
     "output_type": "display_data"
    },
    {
     "name": "stdout",
     "output_type": "stream",
     "text": [
      "Example Prediction\n",
      "Input  Tensor(\"Const:0\", shape=(), dtype=float32)\n",
      "prediction  3.08167\n"
     ]
    }
   ],
   "source": [
    "sess = tf.Session()\n",
    "\n",
    "sess.run(init)\n",
    "\n",
    "for epoch in range(training_epochs):\n",
    "    epoch_n = epoch + 1\n",
    "    for (x, y) in zip(train_X, train_Y):\n",
    "        # this is what sets the placeholder values for this run\n",
    "        sess.run(optimizer, feed_dict={x_val: x, y_val: y})\n",
    "    \n",
    "    # logging output\n",
    "    if epoch_n % display_step == 0:\n",
    "        # check the cost function over\n",
    "        epoch_cost = sess.run(cost, feed_dict={x_val: train_X, y_val: train_Y})\n",
    "        print \"Epoch:\", '%04d' % epoch_n, \"cost=\", \"{:.9f}\".format(epoch_cost), \\\n",
    "                \"W=\", sess.run(weight), \"b=\", sess.run(bias)\n",
    "        \n",
    "print \"Finished!\"\n",
    "training_cost = sess.run(cost, feed_dict={x_val: train_X, y_val: train_Y})\n",
    "print \"Training cost=\", training_cost, \"W=\", sess.run(weight), \"b=\", sess.run(bias), '\\n'\n",
    "\n",
    "plt.plot(train_X, train_Y, 'ro', label='Feature Data')\n",
    "plt.plot(train_X, sess.run(weight) * train_X + sess.run(bias), label='Linear Regression')\n",
    "plt.legend()\n",
    "plt.show()\n",
    "\n",
    "print \"Example Prediction\"\n",
    "example_pred = tf.add(tf.mul(external_x, weight), bias)\n",
    "print \"Input \", external_x\n",
    "print \"prediction \", sess.run(example_pred)\n",
    "sess.close()"
   ]
  },
  {
   "cell_type": "code",
   "execution_count": null,
   "metadata": {
    "collapsed": true
   },
   "outputs": [],
   "source": []
  }
 ],
 "metadata": {
  "kernelspec": {
   "display_name": "Python 2",
   "language": "python",
   "name": "python2"
  },
  "language_info": {
   "codemirror_mode": {
    "name": "ipython",
    "version": 2
   },
   "file_extension": ".py",
   "mimetype": "text/x-python",
   "name": "python",
   "nbconvert_exporter": "python",
   "pygments_lexer": "ipython2",
   "version": "2.7.10"
  }
 },
 "nbformat": 4,
 "nbformat_minor": 0
}
