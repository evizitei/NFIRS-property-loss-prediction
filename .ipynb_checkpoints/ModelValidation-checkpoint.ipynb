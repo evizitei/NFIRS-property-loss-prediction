{
 "cells": [
  {
   "cell_type": "markdown",
   "metadata": {},
   "source": [
    "# Model Validation\n",
    "\n",
    "Wherein we take the model as trained and tuned on the full training set and check it against the hold-out test set split off at the beginning of development."
   ]
  },
  {
   "cell_type": "code",
   "execution_count": 1,
   "metadata": {
    "collapsed": true
   },
   "outputs": [],
   "source": [
    "import sqlite3\n",
    "import numpy as np\n",
    "from sklearn.cross_validation import train_test_split\n",
    "from sklearn.metrics import explained_variance_score\n",
    "from sklearn.metrics import mean_absolute_error\n",
    "from sklearn.metrics import mean_squared_error\n",
    "from sklearn.metrics import median_absolute_error\n",
    "from sklearn.metrics import r2_score\n",
    "\n",
    "train_conn = sqlite3.connect('./sqlite/training_incidents.sqlite')\n",
    "test_conn  = sqlite3.connect('./sqlite/validation_incidents.sqlite')\n",
    "\n",
    "r_seed = 38\n",
    "\n",
    "train_inputs = []\n",
    "train_labels = []\n",
    "test_inputs = []\n",
    "test_labels = []\n",
    "\n",
    "train_results = test_conn.execute(\"SELECT * from incidents\")\n",
    "test_results = test_conn.execute(\"SELECT * from incidents\")\n",
    "\n",
    "for rec in train_results:\n",
    "    train_labels.append(rec[1])\n",
    "    train_inputs.append(rec[2:])\n",
    "\n",
    "for rec in test_results:\n",
    "    test_labels.append(rec[1])\n",
    "    test_inputs.append(rec[2:])\n",
    "\n",
    "\n",
    "inputs_train = np.array(train_inputs)\n",
    "inputs_test = np.array(test_inputs)\n",
    "labels_train = np.array(train_labels)\n",
    "labels_test = np.array(test_labels)\n"
   ]
  },
  {
   "cell_type": "markdown",
   "metadata": {},
   "source": [
    "At this point all the data is loaded, both training and test, so now we take the parameters\n",
    "from the tuned algorithm and train it on the full set before scoring it against the test data"
   ]
  },
  {
   "cell_type": "code",
   "execution_count": 2,
   "metadata": {
    "collapsed": false
   },
   "outputs": [
    {
     "name": "stdout",
     "output_type": "stream",
     "text": [
      "EVS 0.676676560513\n",
      "MAE 0.809925635314\n",
      "MSE 1.43182316638\n",
      "MedAE 0.534865737451\n",
      "r^2 0.676676560513\n"
     ]
    }
   ],
   "source": [
    "from sklearn.ensemble import GradientBoostingRegressor\n",
    "\n",
    "gbr_clf = GradientBoostingRegressor(alpha=0.9, init=None, learning_rate=1.0, loss='ls',\n",
    "             max_depth=3, max_features=None, max_leaf_nodes=None,\n",
    "             min_samples_leaf=5, min_samples_split=5,\n",
    "             min_weight_fraction_leaf=0.0, n_estimators=100,\n",
    "             presort='auto', random_state=None, subsample=1.0, verbose=0,\n",
    "             warm_start=False)\n",
    "\n",
    "gbr_clf.fit(inputs_train, labels_train)\n",
    "\n",
    "labels_predict = gbr_clf.predict(inputs_test)\n",
    "\n",
    "print \"EVS\", explained_variance_score(labels_test, labels_predict)\n",
    "print \"MAE\", mean_absolute_error(labels_test, labels_predict)\n",
    "print \"MSE\", mean_squared_error(labels_test, labels_predict)\n",
    "print \"MedAE\", median_absolute_error(labels_test, labels_predict)\n",
    "print \"r^2\", r2_score(labels_test, labels_predict)"
   ]
  },
  {
   "cell_type": "markdown",
   "metadata": {},
   "source": [
    "This is quite promising; here I'm showing an r^2 score of 0.68 against a quite large dataset (30k) that has never been seen by the model before either in training or tuning.  The next step is to re-train the model from scratch on the entire dataset and persist it so it can be incorporated into other programs without paying a retraining penalty"
   ]
  },
  {
   "cell_type": "code",
   "execution_count": null,
   "metadata": {
    "collapsed": true
   },
   "outputs": [],
   "source": []
  }
 ],
 "metadata": {
  "kernelspec": {
   "display_name": "Python 2",
   "language": "python",
   "name": "python2"
  },
  "language_info": {
   "codemirror_mode": {
    "name": "ipython",
    "version": 2
   },
   "file_extension": ".py",
   "mimetype": "text/x-python",
   "name": "python",
   "nbconvert_exporter": "python",
   "pygments_lexer": "ipython2",
   "version": "2.7.10"
  }
 },
 "nbformat": 4,
 "nbformat_minor": 0
}
